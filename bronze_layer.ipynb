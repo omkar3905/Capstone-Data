{
 "cells": [
  {
   "cell_type": "code",
   "execution_count": 0,
   "metadata": {
    "application/vnd.databricks.v1+cell": {
     "cellMetadata": {
      "byteLimit": 2048000,
      "rowLimit": 10000
     },
     "inputWidgets": {},
     "nuid": "e3438681-4e51-4e0b-a1d7-d4e81f59b58c",
     "showTitle": false,
     "tableResultSettingsMap": {},
     "title": ""
    }
   },
   "outputs": [
    {
     "output_type": "stream",
     "name": "stdout",
     "output_type": "stream",
     "text": [
      "JSON Sample: \n"
     ]
    },
    {
     "output_type": "display_data",
     "data": {
      "text/html": [
       "<style scoped>\n",
       "  .table-result-container {\n",
       "    max-height: 300px;\n",
       "    overflow: auto;\n",
       "  }\n",
       "  table, th, td {\n",
       "    border: 1px solid black;\n",
       "    border-collapse: collapse;\n",
       "  }\n",
       "  th, td {\n",
       "    padding: 5px;\n",
       "  }\n",
       "  th {\n",
       "    text-align: left;\n",
       "  }\n",
       "</style><div class='table-result-container'><table class='table-result'><thead style='background-color: white'><tr><th>value</th></tr></thead><tbody><tr><td>{\"price\":\"13300000\",\"area\":\"7420\",\"bedrooms\":\"4\",\"bathrooms\":\"2\",\"stories\":\"3\",\"mainroad\":\"yes\",\"guestroom\":\"no\",\"basement\":\"no\",\"hotwaterheating\":\"no\",\"airconditioning\":\"yes\",\"parking\":\"2\",\"prefarea\":\"yes\",\"furnishingstatus\":\"furnished\"}</td></tr><tr><td>{\"price\":\"12250000\",\"area\":\"8960\",\"bedrooms\":\"4\",\"bathrooms\":\"4\",\"stories\":\"4\",\"mainroad\":\"yes\",\"guestroom\":\"no\",\"basement\":\"no\",\"hotwaterheating\":\"no\",\"airconditioning\":\"yes\",\"parking\":\"3\",\"prefarea\":\"no\",\"furnishingstatus\":\"furnished\"}</td></tr><tr><td>{\"price\":\"12250000\",\"area\":\"9960\",\"bedrooms\":\"3\",\"bathrooms\":\"2\",\"stories\":\"2\",\"mainroad\":\"yes\",\"guestroom\":\"no\",\"basement\":\"yes\",\"hotwaterheating\":\"no\",\"airconditioning\":\"no\",\"parking\":\"2\",\"prefarea\":\"yes\",\"furnishingstatus\":\"semi-furnished\"}</td></tr><tr><td>{\"price\":\"12215000\",\"area\":\"7500\",\"bedrooms\":\"4\",\"bathrooms\":\"2\",\"stories\":\"2\",\"mainroad\":\"yes\",\"guestroom\":\"no\",\"basement\":\"yes\",\"hotwaterheating\":\"no\",\"airconditioning\":\"yes\",\"parking\":\"3\",\"prefarea\":\"yes\",\"furnishingstatus\":\"furnished\"}</td></tr><tr><td>{\"price\":\"11410000\",\"area\":\"7420\",\"bedrooms\":\"4\",\"bathrooms\":\"1\",\"stories\":\"2\",\"mainroad\":\"yes\",\"guestroom\":\"yes\",\"basement\":\"yes\",\"hotwaterheating\":\"no\",\"airconditioning\":\"yes\",\"parking\":\"2\",\"prefarea\":\"no\",\"furnishingstatus\":\"furnished\"}</td></tr></tbody></table></div>"
      ]
     },
     "metadata": {
      "application/vnd.databricks.v1+output": {
       "addedWidgets": {},
       "aggData": [],
       "aggError": "",
       "aggOverflow": false,
       "aggSchema": [],
       "aggSeriesLimitReached": false,
       "aggType": "",
       "arguments": {},
       "columnCustomDisplayInfos": {},
       "data": [
        [
         "{\"price\":\"13300000\",\"area\":\"7420\",\"bedrooms\":\"4\",\"bathrooms\":\"2\",\"stories\":\"3\",\"mainroad\":\"yes\",\"guestroom\":\"no\",\"basement\":\"no\",\"hotwaterheating\":\"no\",\"airconditioning\":\"yes\",\"parking\":\"2\",\"prefarea\":\"yes\",\"furnishingstatus\":\"furnished\"}"
        ],
        [
         "{\"price\":\"12250000\",\"area\":\"8960\",\"bedrooms\":\"4\",\"bathrooms\":\"4\",\"stories\":\"4\",\"mainroad\":\"yes\",\"guestroom\":\"no\",\"basement\":\"no\",\"hotwaterheating\":\"no\",\"airconditioning\":\"yes\",\"parking\":\"3\",\"prefarea\":\"no\",\"furnishingstatus\":\"furnished\"}"
        ],
        [
         "{\"price\":\"12250000\",\"area\":\"9960\",\"bedrooms\":\"3\",\"bathrooms\":\"2\",\"stories\":\"2\",\"mainroad\":\"yes\",\"guestroom\":\"no\",\"basement\":\"yes\",\"hotwaterheating\":\"no\",\"airconditioning\":\"no\",\"parking\":\"2\",\"prefarea\":\"yes\",\"furnishingstatus\":\"semi-furnished\"}"
        ],
        [
         "{\"price\":\"12215000\",\"area\":\"7500\",\"bedrooms\":\"4\",\"bathrooms\":\"2\",\"stories\":\"2\",\"mainroad\":\"yes\",\"guestroom\":\"no\",\"basement\":\"yes\",\"hotwaterheating\":\"no\",\"airconditioning\":\"yes\",\"parking\":\"3\",\"prefarea\":\"yes\",\"furnishingstatus\":\"furnished\"}"
        ],
        [
         "{\"price\":\"11410000\",\"area\":\"7420\",\"bedrooms\":\"4\",\"bathrooms\":\"1\",\"stories\":\"2\",\"mainroad\":\"yes\",\"guestroom\":\"yes\",\"basement\":\"yes\",\"hotwaterheating\":\"no\",\"airconditioning\":\"yes\",\"parking\":\"2\",\"prefarea\":\"no\",\"furnishingstatus\":\"furnished\"}"
        ]
       ],
       "datasetInfos": [],
       "dbfsResultPath": null,
       "isJsonSchema": true,
       "metadata": {},
       "overflow": false,
       "plotOptions": {
        "customPlotOptions": {},
        "displayType": "table",
        "pivotAggregation": null,
        "pivotColumns": null,
        "xColumns": null,
        "yColumns": null
       },
       "removedWidgets": [],
       "schema": [
        {
         "metadata": "{}",
         "name": "value",
         "type": "\"string\""
        }
       ],
       "type": "table"
      }
     },
     "output_type": "display_data"
    },
    {
     "output_type": "stream",
     "name": "stdout",
     "output_type": "stream",
     "text": [
      "Sales Orders Sample: \n"
     ]
    },
    {
     "output_type": "display_data",
     "data": {
      "text/html": [
       "<style scoped>\n",
       "  .table-result-container {\n",
       "    max-height: 300px;\n",
       "    overflow: auto;\n",
       "  }\n",
       "  table, th, td {\n",
       "    border: 1px solid black;\n",
       "    border-collapse: collapse;\n",
       "  }\n",
       "  th, td {\n",
       "    padding: 5px;\n",
       "  }\n",
       "  th {\n",
       "    text-align: left;\n",
       "  }\n",
       "</style><div class='table-result-container'><table class='table-result'><thead style='background-color: white'><tr><th>value</th></tr></thead><tbody><tr><td>order_id,order_date,customer_id,region,category,amount</td></tr><tr><td>1,2025-10-20 00:00:00.0000000,150,\"South\",\"Furniture\",7700.25</td></tr><tr><td>2,2025-09-03 00:00:00.0000000,103,\"East\",\"Office Supplies\",450.75</td></tr><tr><td>3,2025-09-03 00:00:00.0000000,103,\"East\",\"Office Supplies\",450.75</td></tr><tr><td>4,2025-09-04 00:00:00.0000000,104,\"North\",\"Electronics\",9800.00</td></tr></tbody></table></div>"
      ]
     },
     "metadata": {
      "application/vnd.databricks.v1+output": {
       "addedWidgets": {},
       "aggData": [],
       "aggError": "",
       "aggOverflow": false,
       "aggSchema": [],
       "aggSeriesLimitReached": false,
       "aggType": "",
       "arguments": {},
       "columnCustomDisplayInfos": {},
       "data": [
        [
         "order_id,order_date,customer_id,region,category,amount"
        ],
        [
         "1,2025-10-20 00:00:00.0000000,150,\"South\",\"Furniture\",7700.25"
        ],
        [
         "2,2025-09-03 00:00:00.0000000,103,\"East\",\"Office Supplies\",450.75"
        ],
        [
         "3,2025-09-03 00:00:00.0000000,103,\"East\",\"Office Supplies\",450.75"
        ],
        [
         "4,2025-09-04 00:00:00.0000000,104,\"North\",\"Electronics\",9800.00"
        ]
       ],
       "datasetInfos": [],
       "dbfsResultPath": null,
       "isJsonSchema": true,
       "metadata": {},
       "overflow": false,
       "plotOptions": {
        "customPlotOptions": {},
        "displayType": "table",
        "pivotAggregation": null,
        "pivotColumns": null,
        "xColumns": null,
        "yColumns": null
       },
       "removedWidgets": [],
       "schema": [
        {
         "metadata": "{}",
         "name": "value",
         "type": "\"string\""
        }
       ],
       "type": "table"
      }
     },
     "output_type": "display_data"
    },
    {
     "output_type": "stream",
     "name": "stdout",
     "output_type": "stream",
     "text": [
      "World Population Sample: \n"
     ]
    },
    {
     "output_type": "display_data",
     "data": {
      "text/html": [
       "<style scoped>\n",
       "  .table-result-container {\n",
       "    max-height: 300px;\n",
       "    overflow: auto;\n",
       "  }\n",
       "  table, th, td {\n",
       "    border: 1px solid black;\n",
       "    border-collapse: collapse;\n",
       "  }\n",
       "  th, td {\n",
       "    padding: 5px;\n",
       "  }\n",
       "  th {\n",
       "    text-align: left;\n",
       "  }\n",
       "</style><div class='table-result-container'><table class='table-result'><thead style='background-color: white'><tr><th>value</th></tr></thead><tbody><tr><td>Rank,CCA3,Country/Territory,Capital,Continent,2022 Population,2020 Population,2015 Population,2010 Population,2000 Population,1990 Population,1980 Population,1970 Population,Area (km²),Density (per km²),Growth Rate,World Population Percentage</td></tr><tr><td>\"36\",\"AFG\",\"Afghanistan\",\"Kabul\",\"Asia\",\"41128771\",\"38972230\",\"33753499\",\"28189672\",\"19542982\",\"10694796\",\"12486631\",\"10752971\",\"652230\",\"63.0587\",\"1.0257\",\"0.52\"</td></tr><tr><td>\"138\",\"ALB\",\"Albania\",\"Tirana\",\"Europe\",\"2842321\",\"2866849\",\"2882481\",\"2913399\",\"3182021\",\"3295066\",\"2941651\",\"2324731\",\"28748\",\"98.8702\",\"0.9957\",\"0.04\"</td></tr><tr><td>\"34\",\"DZA\",\"Algeria\",\"Algiers\",\"Africa\",\"44903225\",\"43451666\",\"39543154\",\"35856344\",\"30774621\",\"25518074\",\"18739378\",\"13795915\",\"2381741\",\"18.8531\",\"1.0164\",\"0.56\"</td></tr><tr><td>\"213\",\"ASM\",\"American Samoa\",\"Pago Pago\",\"Oceania\",\"44273\",\"46189\",\"51368\",\"54849\",\"58230\",\"47818\",\"32886\",\"27075\",\"199\",\"222.4774\",\"0.9831\",\"0\"</td></tr></tbody></table></div>"
      ]
     },
     "metadata": {
      "application/vnd.databricks.v1+output": {
       "addedWidgets": {},
       "aggData": [],
       "aggError": "",
       "aggOverflow": false,
       "aggSchema": [],
       "aggSeriesLimitReached": false,
       "aggType": "",
       "arguments": {},
       "columnCustomDisplayInfos": {},
       "data": [
        [
         "Rank,CCA3,Country/Territory,Capital,Continent,2022 Population,2020 Population,2015 Population,2010 Population,2000 Population,1990 Population,1980 Population,1970 Population,Area (km²),Density (per km²),Growth Rate,World Population Percentage"
        ],
        [
         "\"36\",\"AFG\",\"Afghanistan\",\"Kabul\",\"Asia\",\"41128771\",\"38972230\",\"33753499\",\"28189672\",\"19542982\",\"10694796\",\"12486631\",\"10752971\",\"652230\",\"63.0587\",\"1.0257\",\"0.52\""
        ],
        [
         "\"138\",\"ALB\",\"Albania\",\"Tirana\",\"Europe\",\"2842321\",\"2866849\",\"2882481\",\"2913399\",\"3182021\",\"3295066\",\"2941651\",\"2324731\",\"28748\",\"98.8702\",\"0.9957\",\"0.04\""
        ],
        [
         "\"34\",\"DZA\",\"Algeria\",\"Algiers\",\"Africa\",\"44903225\",\"43451666\",\"39543154\",\"35856344\",\"30774621\",\"25518074\",\"18739378\",\"13795915\",\"2381741\",\"18.8531\",\"1.0164\",\"0.56\""
        ],
        [
         "\"213\",\"ASM\",\"American Samoa\",\"Pago Pago\",\"Oceania\",\"44273\",\"46189\",\"51368\",\"54849\",\"58230\",\"47818\",\"32886\",\"27075\",\"199\",\"222.4774\",\"0.9831\",\"0\""
        ]
       ],
       "datasetInfos": [],
       "dbfsResultPath": null,
       "isJsonSchema": true,
       "metadata": {},
       "overflow": false,
       "plotOptions": {
        "customPlotOptions": {},
        "displayType": "table",
        "pivotAggregation": null,
        "pivotColumns": null,
        "xColumns": null,
        "yColumns": null
       },
       "removedWidgets": [],
       "schema": [
        {
         "metadata": "{}",
         "name": "value",
         "type": "\"string\""
        }
       ],
       "type": "table"
      }
     },
     "output_type": "display_data"
    },
    {
     "output_type": "stream",
     "name": "stdout",
     "output_type": "stream",
     "text": [
      "House Price Data Version 0: \n"
     ]
    },
    {
     "output_type": "display_data",
     "data": {
      "text/html": [
       "<style scoped>\n",
       "  .table-result-container {\n",
       "    max-height: 300px;\n",
       "    overflow: auto;\n",
       "  }\n",
       "  table, th, td {\n",
       "    border: 1px solid black;\n",
       "    border-collapse: collapse;\n",
       "  }\n",
       "  th, td {\n",
       "    padding: 5px;\n",
       "  }\n",
       "  th {\n",
       "    text-align: left;\n",
       "  }\n",
       "</style><div class='table-result-container'><table class='table-result'><thead style='background-color: white'><tr><th>value</th></tr></thead><tbody><tr><td>{\"price\":\"13300000\",\"area\":\"7420\",\"bedrooms\":\"4\",\"bathrooms\":\"2\",\"stories\":\"3\",\"mainroad\":\"yes\",\"guestroom\":\"no\",\"basement\":\"no\",\"hotwaterheating\":\"no\",\"airconditioning\":\"yes\",\"parking\":\"2\",\"prefarea\":\"yes\",\"furnishingstatus\":\"furnished\"}</td></tr><tr><td>{\"price\":\"12250000\",\"area\":\"8960\",\"bedrooms\":\"4\",\"bathrooms\":\"4\",\"stories\":\"4\",\"mainroad\":\"yes\",\"guestroom\":\"no\",\"basement\":\"no\",\"hotwaterheating\":\"no\",\"airconditioning\":\"yes\",\"parking\":\"3\",\"prefarea\":\"no\",\"furnishingstatus\":\"furnished\"}</td></tr><tr><td>{\"price\":\"12250000\",\"area\":\"9960\",\"bedrooms\":\"3\",\"bathrooms\":\"2\",\"stories\":\"2\",\"mainroad\":\"yes\",\"guestroom\":\"no\",\"basement\":\"yes\",\"hotwaterheating\":\"no\",\"airconditioning\":\"no\",\"parking\":\"2\",\"prefarea\":\"yes\",\"furnishingstatus\":\"semi-furnished\"}</td></tr><tr><td>{\"price\":\"12215000\",\"area\":\"7500\",\"bedrooms\":\"4\",\"bathrooms\":\"2\",\"stories\":\"2\",\"mainroad\":\"yes\",\"guestroom\":\"no\",\"basement\":\"yes\",\"hotwaterheating\":\"no\",\"airconditioning\":\"yes\",\"parking\":\"3\",\"prefarea\":\"yes\",\"furnishingstatus\":\"furnished\"}</td></tr><tr><td>{\"price\":\"11410000\",\"area\":\"7420\",\"bedrooms\":\"4\",\"bathrooms\":\"1\",\"stories\":\"2\",\"mainroad\":\"yes\",\"guestroom\":\"yes\",\"basement\":\"yes\",\"hotwaterheating\":\"no\",\"airconditioning\":\"yes\",\"parking\":\"2\",\"prefarea\":\"no\",\"furnishingstatus\":\"furnished\"}</td></tr></tbody></table></div>"
      ]
     },
     "metadata": {
      "application/vnd.databricks.v1+output": {
       "addedWidgets": {},
       "aggData": [],
       "aggError": "",
       "aggOverflow": false,
       "aggSchema": [],
       "aggSeriesLimitReached": false,
       "aggType": "",
       "arguments": {},
       "columnCustomDisplayInfos": {},
       "data": [
        [
         "{\"price\":\"13300000\",\"area\":\"7420\",\"bedrooms\":\"4\",\"bathrooms\":\"2\",\"stories\":\"3\",\"mainroad\":\"yes\",\"guestroom\":\"no\",\"basement\":\"no\",\"hotwaterheating\":\"no\",\"airconditioning\":\"yes\",\"parking\":\"2\",\"prefarea\":\"yes\",\"furnishingstatus\":\"furnished\"}"
        ],
        [
         "{\"price\":\"12250000\",\"area\":\"8960\",\"bedrooms\":\"4\",\"bathrooms\":\"4\",\"stories\":\"4\",\"mainroad\":\"yes\",\"guestroom\":\"no\",\"basement\":\"no\",\"hotwaterheating\":\"no\",\"airconditioning\":\"yes\",\"parking\":\"3\",\"prefarea\":\"no\",\"furnishingstatus\":\"furnished\"}"
        ],
        [
         "{\"price\":\"12250000\",\"area\":\"9960\",\"bedrooms\":\"3\",\"bathrooms\":\"2\",\"stories\":\"2\",\"mainroad\":\"yes\",\"guestroom\":\"no\",\"basement\":\"yes\",\"hotwaterheating\":\"no\",\"airconditioning\":\"no\",\"parking\":\"2\",\"prefarea\":\"yes\",\"furnishingstatus\":\"semi-furnished\"}"
        ],
        [
         "{\"price\":\"12215000\",\"area\":\"7500\",\"bedrooms\":\"4\",\"bathrooms\":\"2\",\"stories\":\"2\",\"mainroad\":\"yes\",\"guestroom\":\"no\",\"basement\":\"yes\",\"hotwaterheating\":\"no\",\"airconditioning\":\"yes\",\"parking\":\"3\",\"prefarea\":\"yes\",\"furnishingstatus\":\"furnished\"}"
        ],
        [
         "{\"price\":\"11410000\",\"area\":\"7420\",\"bedrooms\":\"4\",\"bathrooms\":\"1\",\"stories\":\"2\",\"mainroad\":\"yes\",\"guestroom\":\"yes\",\"basement\":\"yes\",\"hotwaterheating\":\"no\",\"airconditioning\":\"yes\",\"parking\":\"2\",\"prefarea\":\"no\",\"furnishingstatus\":\"furnished\"}"
        ]
       ],
       "datasetInfos": [],
       "dbfsResultPath": null,
       "isJsonSchema": true,
       "metadata": {},
       "overflow": false,
       "plotOptions": {
        "customPlotOptions": {},
        "displayType": "table",
        "pivotAggregation": null,
        "pivotColumns": null,
        "xColumns": null,
        "yColumns": null
       },
       "removedWidgets": [],
       "schema": [
        {
         "metadata": "{}",
         "name": "value",
         "type": "\"string\""
        }
       ],
       "type": "table"
      }
     },
     "output_type": "display_data"
    },
    {
     "output_type": "stream",
     "name": "stdout",
     "output_type": "stream",
     "text": [
      "Sales Orders Data as of 2025-09-27T05:00:00: \n"
     ]
    },
    {
     "output_type": "display_data",
     "data": {
      "text/html": [
       "<style scoped>\n",
       "  .table-result-container {\n",
       "    max-height: 300px;\n",
       "    overflow: auto;\n",
       "  }\n",
       "  table, th, td {\n",
       "    border: 1px solid black;\n",
       "    border-collapse: collapse;\n",
       "  }\n",
       "  th, td {\n",
       "    padding: 5px;\n",
       "  }\n",
       "  th {\n",
       "    text-align: left;\n",
       "  }\n",
       "</style><div class='table-result-container'><table class='table-result'><thead style='background-color: white'><tr><th>value</th></tr></thead><tbody><tr><td>order_id,order_date,customer_id,region,category,amount</td></tr><tr><td>1,2025-10-20 00:00:00.0000000,150,\"South\",\"Furniture\",7700.25</td></tr><tr><td>2,2025-09-03 00:00:00.0000000,103,\"East\",\"Office Supplies\",450.75</td></tr><tr><td>3,2025-09-03 00:00:00.0000000,103,\"East\",\"Office Supplies\",450.75</td></tr><tr><td>4,2025-09-04 00:00:00.0000000,104,\"North\",\"Electronics\",9800.00</td></tr></tbody></table></div>"
      ]
     },
     "metadata": {
      "application/vnd.databricks.v1+output": {
       "addedWidgets": {},
       "aggData": [],
       "aggError": "",
       "aggOverflow": false,
       "aggSchema": [],
       "aggSeriesLimitReached": false,
       "aggType": "",
       "arguments": {},
       "columnCustomDisplayInfos": {},
       "data": [
        [
         "order_id,order_date,customer_id,region,category,amount"
        ],
        [
         "1,2025-10-20 00:00:00.0000000,150,\"South\",\"Furniture\",7700.25"
        ],
        [
         "2,2025-09-03 00:00:00.0000000,103,\"East\",\"Office Supplies\",450.75"
        ],
        [
         "3,2025-09-03 00:00:00.0000000,103,\"East\",\"Office Supplies\",450.75"
        ],
        [
         "4,2025-09-04 00:00:00.0000000,104,\"North\",\"Electronics\",9800.00"
        ]
       ],
       "datasetInfos": [],
       "dbfsResultPath": null,
       "isJsonSchema": true,
       "metadata": {},
       "overflow": false,
       "plotOptions": {
        "customPlotOptions": {},
        "displayType": "table",
        "pivotAggregation": null,
        "pivotColumns": null,
        "xColumns": null,
        "yColumns": null
       },
       "removedWidgets": [],
       "schema": [
        {
         "metadata": "{}",
         "name": "value",
         "type": "\"string\""
        }
       ],
       "type": "table"
      }
     },
     "output_type": "display_data"
    }
   ],
   "source": [
    "# --------------------------------\n",
    "# Bronze Layer - Medallion Architecture (Service Principal Auth)\n",
    "# --------------------------------\n",
    "\n",
    "\n",
    "# Fetch Service Principal credentials securely\n",
    "client_id = dbutils.secrets.get(scope=\"capstonescope\", key=\"sp-client-id\")\n",
    "client_secret = dbutils.secrets.get(scope=\"capstonescope\", key=\"sp-client-secret\")\n",
    "tenant_id = dbutils.secrets.get(scope=\"capstonescope\", key=\"sp-tenant-id\")\n",
    "\n",
    "\n",
    "# Storage account and container details\n",
    "storage_account = \"capstoneblobsa\"\n",
    "container_name = \"bronze\"\n",
    "\n",
    "\n",
    "# Configure Spark for Service Principal + OAuth\n",
    "spark.conf.set(\"fs.azure.account.auth.type\", \"OAuth\")\n",
    "spark.conf.set(\"fs.azure.account.oauth.provider.type\",\"org.apache.hadoop.fs.azurebfs.oauth2.ClientCredsTokenProvider\")\n",
    "spark.conf.set(\"fs.azure.account.oauth2.client.id\", client_id)\n",
    "spark.conf.set(\"fs.azure.account.oauth2.client.secret\", client_secret)\n",
    "spark.conf.set(\"fs.azure.account.oauth2.client.endpoint\",f\"https://login.microsoftonline.com/{tenant_id}/oauth2/token\")\n",
    "\n",
    "\n",
    "# Base path for Bronze layer\n",
    "abfss_path = f\"abfss://{container_name}@{storage_account}.dfs.core.windows.net/\"\n",
    "\n",
    "\n",
    "# -------------------------------\n",
    "# Sample Reads for Validation\n",
    "# -------------------------------\n",
    "df_json_sample = spark.read.text(f\"{abfss_path}house-price-parquet.json\")\n",
    "print(\"JSON Sample: \")\n",
    "display(df_json_sample.limit(5))\n",
    "\n",
    "\n",
    "df_orders_sample = spark.read.text(f\"{abfss_path}sales.orders.txt\")\n",
    "print(\"Sales Orders Sample: \")\n",
    "display(df_orders_sample.limit(5))\n",
    "\n",
    "\n",
    "df_world_sample = spark.read.text(f\"{abfss_path}world-population.txt\")\n",
    "print(\"World Population Sample: \")\n",
    "display(df_world_sample.limit(5))\n",
    "\n",
    "\n",
    "# -------------------------------\n",
    "# Ingest Raw Data into Bronze\n",
    "# -------------------------------\n",
    "df_house_bronze = spark.read.text(f\"{abfss_path}house-price-parquet.json\")\n",
    "df_house_bronze.write.format(\"delta\").mode(\"overwrite\").option(\"mergeSchema\", \"true\").save(f\"{abfss_path}house_price\")\n",
    "\n",
    "\n",
    "df_orders_bronze = spark.read.text(f\"{abfss_path}sales.orders.txt\")\n",
    "df_orders_bronze.write.format(\"delta\").mode(\"overwrite\").save(f\"{abfss_path}sales_orders\")\n",
    "\n",
    "\n",
    "df_world_bronze = spark.read.text(f\"{abfss_path}world-population.txt\")\n",
    "df_world_bronze.write.format(\"delta\").mode(\"overwrite\").save(f\"{abfss_path}world_population\")\n",
    "\n",
    "\n",
    "# -------------------------------\n",
    "# Delta Lake Time Travel Examples\n",
    "# -------------------------------\n",
    "df_house_v0 = spark.read.format(\"delta\").option(\"versionAsOf\", 0).load(f\"{abfss_path}house_price\")\n",
    "\n",
    "\n",
    "df_orders_old = spark.read.format(\"delta\").option(\"timestampAsOf\", \"2025-09-27T05:00:00\").load(f\"{abfss_path}sales_orders\")\n",
    "\n",
    "\n",
    "print(\"House Price Data Version 0: \")\n",
    "display(df_house_v0.limit(5))\n",
    "\n",
    "\n",
    "print(\"Sales Orders Data as of 2025-09-27T05:00:00: \")\n",
    "display(df_orders_old.limit(5))"
   ]
  }
 ],
 "metadata": {
  "application/vnd.databricks.v1+notebook": {
   "computePreferences": null,
   "dashboards": [],
   "environmentMetadata": {
    "base_environment": "",
    "environment_version": "3"
   },
   "inputWidgetPreferences": null,
   "language": "python",
   "notebookMetadata": {
    "pythonIndentUnit": 4
   },
   "notebookName": "bronze_layer",
   "widgets": {}
  },
  "language_info": {
   "name": "python"
  }
 },
 "nbformat": 4,
 "nbformat_minor": 0
}