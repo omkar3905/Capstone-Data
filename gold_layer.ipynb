{
 "cells": [
  {
   "cell_type": "code",
   "execution_count": 0,
   "metadata": {
    "application/vnd.databricks.v1+cell": {
     "cellMetadata": {
      "byteLimit": 2048000,
      "rowLimit": 10000
     },
     "inputWidgets": {},
     "nuid": "5e0aead1-1f07-4ddf-964e-8f1bcbb47e77",
     "showTitle": false,
     "tableResultSettingsMap": {},
     "title": ""
    }
   },
   "outputs": [
    {
     "output_type": "stream",
     "name": "stdout",
     "output_type": "stream",
     "text": [
      "Gold House Price Summary (version 0):\n"
     ]
    },
    {
     "output_type": "display_data",
     "data": {
      "text/html": [
       "<style scoped>\n",
       "  .table-result-container {\n",
       "    max-height: 300px;\n",
       "    overflow: auto;\n",
       "  }\n",
       "  table, th, td {\n",
       "    border: 1px solid black;\n",
       "    border-collapse: collapse;\n",
       "  }\n",
       "  th, td {\n",
       "    padding: 5px;\n",
       "  }\n",
       "  th {\n",
       "    text-align: left;\n",
       "  }\n",
       "</style><div class='table-result-container'><table class='table-result'><thead style='background-color: white'><tr><th>total_records</th><th>avg_record_length</th><th>processed_at</th></tr></thead><tbody><tr><td>545</td><td>238.76697247706423</td><td>2025-09-27T05:11:58.581048Z</td></tr></tbody></table></div>"
      ]
     },
     "metadata": {
      "application/vnd.databricks.v1+output": {
       "addedWidgets": {},
       "aggData": [],
       "aggError": "",
       "aggOverflow": false,
       "aggSchema": [],
       "aggSeriesLimitReached": false,
       "aggType": "",
       "arguments": {},
       "columnCustomDisplayInfos": {},
       "data": [
        [
         545,
         238.76697247706423,
         "2025-09-27T05:11:58.581048Z"
        ]
       ],
       "datasetInfos": [],
       "dbfsResultPath": null,
       "isJsonSchema": true,
       "metadata": {},
       "overflow": false,
       "plotOptions": {
        "customPlotOptions": {},
        "displayType": "table",
        "pivotAggregation": null,
        "pivotColumns": null,
        "xColumns": null,
        "yColumns": null
       },
       "removedWidgets": [],
       "schema": [
        {
         "metadata": "{}",
         "name": "total_records",
         "type": "\"long\""
        },
        {
         "metadata": "{}",
         "name": "avg_record_length",
         "type": "\"double\""
        },
        {
         "metadata": "{}",
         "name": "processed_at",
         "type": "\"timestamp\""
        }
       ],
       "type": "table"
      }
     },
     "output_type": "display_data"
    },
    {
     "output_type": "stream",
     "name": "stdout",
     "output_type": "stream",
     "text": [
      "Gold Sales Orders Summary (version 0):\n"
     ]
    },
    {
     "output_type": "display_data",
     "data": {
      "text/html": [
       "<style scoped>\n",
       "  .table-result-container {\n",
       "    max-height: 300px;\n",
       "    overflow: auto;\n",
       "  }\n",
       "  table, th, td {\n",
       "    border: 1px solid black;\n",
       "    border-collapse: collapse;\n",
       "  }\n",
       "  th, td {\n",
       "    padding: 5px;\n",
       "  }\n",
       "  th {\n",
       "    text-align: left;\n",
       "  }\n",
       "</style><div class='table-result-container'><table class='table-result'><thead style='background-color: white'><tr><th>total_orders</th><th>unique_orders</th><th>processed_at</th></tr></thead><tbody><tr><td>51</td><td>51</td><td>2025-09-27T05:12:00.220412Z</td></tr></tbody></table></div>"
      ]
     },
     "metadata": {
      "application/vnd.databricks.v1+output": {
       "addedWidgets": {},
       "aggData": [],
       "aggError": "",
       "aggOverflow": false,
       "aggSchema": [],
       "aggSeriesLimitReached": false,
       "aggType": "",
       "arguments": {},
       "columnCustomDisplayInfos": {},
       "data": [
        [
         51,
         51,
         "2025-09-27T05:12:00.220412Z"
        ]
       ],
       "datasetInfos": [],
       "dbfsResultPath": null,
       "isJsonSchema": true,
       "metadata": {},
       "overflow": false,
       "plotOptions": {
        "customPlotOptions": {},
        "displayType": "table",
        "pivotAggregation": null,
        "pivotColumns": null,
        "xColumns": null,
        "yColumns": null
       },
       "removedWidgets": [],
       "schema": [
        {
         "metadata": "{}",
         "name": "total_orders",
         "type": "\"long\""
        },
        {
         "metadata": "{}",
         "name": "unique_orders",
         "type": "\"long\""
        },
        {
         "metadata": "{}",
         "name": "processed_at",
         "type": "\"timestamp\""
        }
       ],
       "type": "table"
      }
     },
     "output_type": "display_data"
    },
    {
     "output_type": "stream",
     "name": "stdout",
     "output_type": "stream",
     "text": [
      "Gold World Population Summary (version 0):\n"
     ]
    },
    {
     "output_type": "display_data",
     "data": {
      "text/html": [
       "<style scoped>\n",
       "  .table-result-container {\n",
       "    max-height: 300px;\n",
       "    overflow: auto;\n",
       "  }\n",
       "  table, th, td {\n",
       "    border: 1px solid black;\n",
       "    border-collapse: collapse;\n",
       "  }\n",
       "  th, td {\n",
       "    padding: 5px;\n",
       "  }\n",
       "  th {\n",
       "    text-align: left;\n",
       "  }\n",
       "</style><div class='table-result-container'><table class='table-result'><thead style='background-color: white'><tr><th>total_population_records</th><th>unique_population_entries</th><th>processed_at</th></tr></thead><tbody><tr><td>235</td><td>235</td><td>2025-09-27T05:12:02.148696Z</td></tr></tbody></table></div>"
      ]
     },
     "metadata": {
      "application/vnd.databricks.v1+output": {
       "addedWidgets": {},
       "aggData": [],
       "aggError": "",
       "aggOverflow": false,
       "aggSchema": [],
       "aggSeriesLimitReached": false,
       "aggType": "",
       "arguments": {},
       "columnCustomDisplayInfos": {},
       "data": [
        [
         235,
         235,
         "2025-09-27T05:12:02.148696Z"
        ]
       ],
       "datasetInfos": [],
       "dbfsResultPath": null,
       "isJsonSchema": true,
       "metadata": {},
       "overflow": false,
       "plotOptions": {
        "customPlotOptions": {},
        "displayType": "table",
        "pivotAggregation": null,
        "pivotColumns": null,
        "xColumns": null,
        "yColumns": null
       },
       "removedWidgets": [],
       "schema": [
        {
         "metadata": "{}",
         "name": "total_population_records",
         "type": "\"long\""
        },
        {
         "metadata": "{}",
         "name": "unique_population_entries",
         "type": "\"long\""
        },
        {
         "metadata": "{}",
         "name": "processed_at",
         "type": "\"timestamp\""
        }
       ],
       "type": "table"
      }
     },
     "output_type": "display_data"
    }
   ],
   "source": [
    "# --------------------------------\n",
    "# Gold Layer - Medallion Architecture (Service Principal Auth)\n",
    "# --------------------------------\n",
    "\n",
    "# Fetch Service Principal credentials from Key Vault\n",
    "client_id = dbutils.secrets.get(scope=\"capstonescope\", key=\"sp-client-id\")\n",
    "client_secret = dbutils.secrets.get(scope=\"capstonescope\", key=\"sp-client-secret\")\n",
    "tenant_id = dbutils.secrets.get(scope=\"capstonescope\", key=\"sp-tenant-id\")\n",
    "\n",
    "storage_account = \"capstoneblobsa\"\n",
    "silver_container = \"silver\"\n",
    "gold_container = \"gold\"\n",
    "\n",
    "# Configure Spark to use Service Principal OAuth for storage account\n",
    "spark.conf.set(\"fs.azure.account.auth.type\", \"OAuth\")\n",
    "spark.conf.set(\"fs.azure.account.oauth.provider.type\", \"org.apache.hadoop.fs.azurebfs.oauth2.ClientCredsTokenProvider\")\n",
    "spark.conf.set(\"fs.azure.account.oauth2.client.id\", client_id)\n",
    "spark.conf.set(\"fs.azure.account.oauth2.client.secret\", client_secret)\n",
    "spark.conf.set(\"fs.azure.account.oauth2.client.endpoint\", f\"https://login.microsoftonline.com/{tenant_id}/oauth2/token\")\n",
    "\n",
    "# Base paths for Silver and Gold containers\n",
    "silver_base = f\"abfss://{silver_container}@{storage_account}.dfs.core.windows.net/\"\n",
    "gold_base = f\"abfss://{gold_container}@{storage_account}.dfs.core.windows.net/\"\n",
    "\n",
    "# Paths to Silver Delta tables\n",
    "silver_house_path = f\"{silver_base}house_price\"\n",
    "silver_orders_path = f\"{silver_base}sales_orders\"\n",
    "silver_world_path = f\"{silver_base}world_population\"\n",
    "\n",
    "# Paths to Gold Delta tables\n",
    "gold_house_path = f\"{gold_base}house_price_summary\"\n",
    "gold_orders_path = f\"{gold_base}sales_orders_summary\"\n",
    "gold_world_path = f\"{gold_base}world_population_summary\"\n",
    "\n",
    "# --------------------------------\n",
    "# Read Silver Delta tables\n",
    "# --------------------------------\n",
    "df_house_silver = spark.read.format(\"delta\").load(silver_house_path)\n",
    "df_orders_silver = spark.read.format(\"delta\").load(silver_orders_path)\n",
    "df_world_silver = spark.read.format(\"delta\").load(silver_world_path)\n",
    "\n",
    "from pyspark.sql import functions as F\n",
    "\n",
    "# --------------------------------\n",
    "# Gold Transformations (Business KPIs)\n",
    "# --------------------------------\n",
    "\n",
    "df_house_gold = (\n",
    "    df_house_silver\n",
    "    .withColumn(\"json_length\", F.length(F.col(\"value_clean\")))\n",
    "    .agg(\n",
    "        F.count(\"*\").alias(\"total_records\"),\n",
    "        F.avg(\"json_length\").alias(\"avg_record_length\")\n",
    "    )\n",
    "    .withColumn(\"processed_at\", F.current_timestamp())\n",
    ")\n",
    "\n",
    "df_orders_gold = (\n",
    "    df_orders_silver\n",
    "    .agg(\n",
    "        F.count(\"*\").alias(\"total_orders\"),\n",
    "        F.countDistinct(\"value_clean\").alias(\"unique_orders\")\n",
    "    )\n",
    "    .withColumn(\"processed_at\", F.current_timestamp())\n",
    ")\n",
    "\n",
    "df_world_gold = (\n",
    "    df_world_silver\n",
    "    .agg(\n",
    "        F.count(\"*\").alias(\"total_population_records\"),\n",
    "        F.countDistinct(\"value_clean\").alias(\"unique_population_entries\")\n",
    "    )\n",
    "    .withColumn(\"processed_at\", F.current_timestamp())\n",
    ")\n",
    "\n",
    "# --------------------------------\n",
    "# Write Gold Delta tables\n",
    "# --------------------------------\n",
    "df_house_gold.write.format(\"delta\").mode(\"overwrite\").save(gold_house_path)\n",
    "df_orders_gold.write.format(\"delta\").mode(\"overwrite\").save(gold_orders_path)\n",
    "df_world_gold.write.format(\"delta\").mode(\"overwrite\").save(gold_world_path)\n",
    "\n",
    "# --------------------------------\n",
    "# Delta Lake Time Travel (Gold)\n",
    "# --------------------------------\n",
    "\n",
    "df_house_gold_v0 = spark.read.format(\"delta\").option(\"versionAsOf\", 0).load(gold_house_path)\n",
    "df_orders_gold_v0 = spark.read.format(\"delta\").option(\"versionAsOf\", 0).load(gold_orders_path)\n",
    "df_world_gold_v0 = spark.read.format(\"delta\").option(\"versionAsOf\", 0).load(gold_world_path)\n",
    "\n",
    "print(\"Gold House Price Summary (version 0):\")\n",
    "display(df_house_gold_v0)\n",
    "\n",
    "print(\"Gold Sales Orders Summary (version 0):\")\n",
    "display(df_orders_gold_v0)\n",
    "\n",
    "print(\"Gold World Population Summary (version 0):\")\n",
    "display(df_world_gold_v0)\n"
   ]
  }
 ],
 "metadata": {
  "application/vnd.databricks.v1+notebook": {
   "computePreferences": null,
   "dashboards": [],
   "environmentMetadata": {
    "base_environment": "",
    "environment_version": "3"
   },
   "inputWidgetPreferences": null,
   "language": "python",
   "notebookMetadata": {
    "pythonIndentUnit": 4
   },
   "notebookName": "gold_layer",
   "widgets": {}
  },
  "language_info": {
   "name": "python"
  }
 },
 "nbformat": 4,
 "nbformat_minor": 0
}