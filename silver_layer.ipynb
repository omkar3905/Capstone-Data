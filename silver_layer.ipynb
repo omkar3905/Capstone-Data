{
 "cells": [
  {
   "cell_type": "code",
   "execution_count": 0,
   "metadata": {
    "application/vnd.databricks.v1+cell": {
     "cellMetadata": {
      "byteLimit": 2048000,
      "rowLimit": 10000
     },
     "inputWidgets": {},
     "nuid": "332a5032-239b-4580-bae2-3ea0afa38271",
     "showTitle": false,
     "tableResultSettingsMap": {},
     "title": ""
    }
   },
   "outputs": [
    {
     "output_type": "stream",
     "name": "stdout",
     "output_type": "stream",
     "text": [
      "Silver House Price (version 0):\n"
     ]
    },
    {
     "output_type": "display_data",
     "data": {
      "text/html": [
       "<style scoped>\n",
       "  .table-result-container {\n",
       "    max-height: 300px;\n",
       "    overflow: auto;\n",
       "  }\n",
       "  table, th, td {\n",
       "    border: 1px solid black;\n",
       "    border-collapse: collapse;\n",
       "  }\n",
       "  th, td {\n",
       "    padding: 5px;\n",
       "  }\n",
       "  th {\n",
       "    text-align: left;\n",
       "  }\n",
       "</style><div class='table-result-container'><table class='table-result'><thead style='background-color: white'><tr><th>value</th><th>airconditioning</th><th>area</th><th>basement</th><th>bathrooms</th><th>bedrooms</th><th>furnishingstatus</th><th>guestroom</th><th>hotwaterheating</th><th>mainroad</th><th>parking</th><th>prefarea</th><th>price</th><th>stories</th><th>value_clean</th><th>json_map</th><th>ingestion_timestamp</th><th>ingestion_date</th><th>source_file</th><th>record_source</th><th>is_json</th></tr></thead><tbody><tr><td>{\"price\":\"10150000\",\"area\":\"16200\",\"bedrooms\":\"5\",\"bathrooms\":\"3\",\"stories\":\"2\",\"mainroad\":\"yes\",\"guestroom\":\"no\",\"basement\":\"no\",\"hotwaterheating\":\"no\",\"airconditioning\":\"no\",\"parking\":\"0\",\"prefarea\":\"no\",\"furnishingstatus\":\"unfurnished\"}</td><td>null</td><td>null</td><td>null</td><td>null</td><td>null</td><td>null</td><td>null</td><td>null</td><td>null</td><td>null</td><td>null</td><td>null</td><td>null</td><td>{\"price\":\"10150000\",\"area\":\"16200\",\"bedrooms\":\"5\",\"bathrooms\":\"3\",\"stories\":\"2\",\"mainroad\":\"yes\",\"guestroom\":\"no\",\"basement\":\"no\",\"hotwaterheating\":\"no\",\"airconditioning\":\"no\",\"parking\":\"0\",\"prefarea\":\"no\",\"furnishingstatus\":\"unfurnished\"}</td><td>Map(bedrooms -> 5, area -> 16200, stories -> 2, price -> 10150000, furnishingstatus -> unfurnished, mainroad -> yes, airconditioning -> no, guestroom -> no, bathrooms -> 3, parking -> 0, basement -> no, hotwaterheating -> no, prefarea -> no)</td><td>2025-09-27T05:05:03.620363Z</td><td>2025-09-27</td><td></td><td>bronze.house_price</td><td>true</td></tr><tr><td>{\"price\":\"10150000\",\"area\":\"8580\",\"bedrooms\":\"4\",\"bathrooms\":\"3\",\"stories\":\"4\",\"mainroad\":\"yes\",\"guestroom\":\"no\",\"basement\":\"no\",\"hotwaterheating\":\"no\",\"airconditioning\":\"yes\",\"parking\":\"2\",\"prefarea\":\"yes\",\"furnishingstatus\":\"semi-furnished\"}</td><td>null</td><td>null</td><td>null</td><td>null</td><td>null</td><td>null</td><td>null</td><td>null</td><td>null</td><td>null</td><td>null</td><td>null</td><td>null</td><td>{\"price\":\"10150000\",\"area\":\"8580\",\"bedrooms\":\"4\",\"bathrooms\":\"3\",\"stories\":\"4\",\"mainroad\":\"yes\",\"guestroom\":\"no\",\"basement\":\"no\",\"hotwaterheating\":\"no\",\"airconditioning\":\"yes\",\"parking\":\"2\",\"prefarea\":\"yes\",\"furnishingstatus\":\"semi-furnished\"}</td><td>Map(bedrooms -> 4, area -> 8580, stories -> 4, price -> 10150000, furnishingstatus -> semi-furnished, mainroad -> yes, airconditioning -> yes, guestroom -> no, bathrooms -> 3, parking -> 2, basement -> no, hotwaterheating -> no, prefarea -> yes)</td><td>2025-09-27T05:05:03.620363Z</td><td>2025-09-27</td><td></td><td>bronze.house_price</td><td>true</td></tr><tr><td>{\"price\":\"10850000\",\"area\":\"7500\",\"bedrooms\":\"3\",\"bathrooms\":\"3\",\"stories\":\"1\",\"mainroad\":\"yes\",\"guestroom\":\"no\",\"basement\":\"yes\",\"hotwaterheating\":\"no\",\"airconditioning\":\"yes\",\"parking\":\"2\",\"prefarea\":\"yes\",\"furnishingstatus\":\"semi-furnished\"}</td><td>null</td><td>null</td><td>null</td><td>null</td><td>null</td><td>null</td><td>null</td><td>null</td><td>null</td><td>null</td><td>null</td><td>null</td><td>null</td><td>{\"price\":\"10850000\",\"area\":\"7500\",\"bedrooms\":\"3\",\"bathrooms\":\"3\",\"stories\":\"1\",\"mainroad\":\"yes\",\"guestroom\":\"no\",\"basement\":\"yes\",\"hotwaterheating\":\"no\",\"airconditioning\":\"yes\",\"parking\":\"2\",\"prefarea\":\"yes\",\"furnishingstatus\":\"semi-furnished\"}</td><td>Map(bedrooms -> 3, area -> 7500, stories -> 1, price -> 10850000, furnishingstatus -> semi-furnished, mainroad -> yes, airconditioning -> yes, guestroom -> no, bathrooms -> 3, parking -> 2, basement -> yes, hotwaterheating -> no, prefarea -> yes)</td><td>2025-09-27T05:05:03.620363Z</td><td>2025-09-27</td><td></td><td>bronze.house_price</td><td>true</td></tr><tr><td>{\"price\":\"11410000\",\"area\":\"7420\",\"bedrooms\":\"4\",\"bathrooms\":\"1\",\"stories\":\"2\",\"mainroad\":\"yes\",\"guestroom\":\"yes\",\"basement\":\"yes\",\"hotwaterheating\":\"no\",\"airconditioning\":\"yes\",\"parking\":\"2\",\"prefarea\":\"no\",\"furnishingstatus\":\"furnished\"}</td><td>null</td><td>null</td><td>null</td><td>null</td><td>null</td><td>null</td><td>null</td><td>null</td><td>null</td><td>null</td><td>null</td><td>null</td><td>null</td><td>{\"price\":\"11410000\",\"area\":\"7420\",\"bedrooms\":\"4\",\"bathrooms\":\"1\",\"stories\":\"2\",\"mainroad\":\"yes\",\"guestroom\":\"yes\",\"basement\":\"yes\",\"hotwaterheating\":\"no\",\"airconditioning\":\"yes\",\"parking\":\"2\",\"prefarea\":\"no\",\"furnishingstatus\":\"furnished\"}</td><td>Map(bedrooms -> 4, area -> 7420, stories -> 2, price -> 11410000, furnishingstatus -> furnished, mainroad -> yes, airconditioning -> yes, guestroom -> yes, bathrooms -> 1, parking -> 2, basement -> yes, hotwaterheating -> no, prefarea -> no)</td><td>2025-09-27T05:05:03.620363Z</td><td>2025-09-27</td><td></td><td>bronze.house_price</td><td>true</td></tr><tr><td>{\"price\":\"12215000\",\"area\":\"7500\",\"bedrooms\":\"4\",\"bathrooms\":\"2\",\"stories\":\"2\",\"mainroad\":\"yes\",\"guestroom\":\"no\",\"basement\":\"yes\",\"hotwaterheating\":\"no\",\"airconditioning\":\"yes\",\"parking\":\"3\",\"prefarea\":\"yes\",\"furnishingstatus\":\"furnished\"}</td><td>null</td><td>null</td><td>null</td><td>null</td><td>null</td><td>null</td><td>null</td><td>null</td><td>null</td><td>null</td><td>null</td><td>null</td><td>null</td><td>{\"price\":\"12215000\",\"area\":\"7500\",\"bedrooms\":\"4\",\"bathrooms\":\"2\",\"stories\":\"2\",\"mainroad\":\"yes\",\"guestroom\":\"no\",\"basement\":\"yes\",\"hotwaterheating\":\"no\",\"airconditioning\":\"yes\",\"parking\":\"3\",\"prefarea\":\"yes\",\"furnishingstatus\":\"furnished\"}</td><td>Map(bedrooms -> 4, area -> 7500, stories -> 2, price -> 12215000, furnishingstatus -> furnished, mainroad -> yes, airconditioning -> yes, guestroom -> no, bathrooms -> 2, parking -> 3, basement -> yes, hotwaterheating -> no, prefarea -> yes)</td><td>2025-09-27T05:05:03.620363Z</td><td>2025-09-27</td><td></td><td>bronze.house_price</td><td>true</td></tr></tbody></table></div>"
      ]
     },
     "metadata": {
      "application/vnd.databricks.v1+output": {
       "addedWidgets": {},
       "aggData": [],
       "aggError": "",
       "aggOverflow": false,
       "aggSchema": [],
       "aggSeriesLimitReached": false,
       "aggType": "",
       "arguments": {},
       "columnCustomDisplayInfos": {},
       "data": [
        [
         "{\"price\":\"10150000\",\"area\":\"16200\",\"bedrooms\":\"5\",\"bathrooms\":\"3\",\"stories\":\"2\",\"mainroad\":\"yes\",\"guestroom\":\"no\",\"basement\":\"no\",\"hotwaterheating\":\"no\",\"airconditioning\":\"no\",\"parking\":\"0\",\"prefarea\":\"no\",\"furnishingstatus\":\"unfurnished\"}",
         null,
         null,
         null,
         null,
         null,
         null,
         null,
         null,
         null,
         null,
         null,
         null,
         null,
         "{\"price\":\"10150000\",\"area\":\"16200\",\"bedrooms\":\"5\",\"bathrooms\":\"3\",\"stories\":\"2\",\"mainroad\":\"yes\",\"guestroom\":\"no\",\"basement\":\"no\",\"hotwaterheating\":\"no\",\"airconditioning\":\"no\",\"parking\":\"0\",\"prefarea\":\"no\",\"furnishingstatus\":\"unfurnished\"}",
         {
          "airconditioning": "no",
          "area": "16200",
          "basement": "no",
          "bathrooms": "3",
          "bedrooms": "5",
          "furnishingstatus": "unfurnished",
          "guestroom": "no",
          "hotwaterheating": "no",
          "mainroad": "yes",
          "parking": "0",
          "prefarea": "no",
          "price": "10150000",
          "stories": "2"
         },
         "2025-09-27T05:05:03.620363Z",
         "2025-09-27",
         "",
         "bronze.house_price",
         true
        ],
        [
         "{\"price\":\"10150000\",\"area\":\"8580\",\"bedrooms\":\"4\",\"bathrooms\":\"3\",\"stories\":\"4\",\"mainroad\":\"yes\",\"guestroom\":\"no\",\"basement\":\"no\",\"hotwaterheating\":\"no\",\"airconditioning\":\"yes\",\"parking\":\"2\",\"prefarea\":\"yes\",\"furnishingstatus\":\"semi-furnished\"}",
         null,
         null,
         null,
         null,
         null,
         null,
         null,
         null,
         null,
         null,
         null,
         null,
         null,
         "{\"price\":\"10150000\",\"area\":\"8580\",\"bedrooms\":\"4\",\"bathrooms\":\"3\",\"stories\":\"4\",\"mainroad\":\"yes\",\"guestroom\":\"no\",\"basement\":\"no\",\"hotwaterheating\":\"no\",\"airconditioning\":\"yes\",\"parking\":\"2\",\"prefarea\":\"yes\",\"furnishingstatus\":\"semi-furnished\"}",
         {
          "airconditioning": "yes",
          "area": "8580",
          "basement": "no",
          "bathrooms": "3",
          "bedrooms": "4",
          "furnishingstatus": "semi-furnished",
          "guestroom": "no",
          "hotwaterheating": "no",
          "mainroad": "yes",
          "parking": "2",
          "prefarea": "yes",
          "price": "10150000",
          "stories": "4"
         },
         "2025-09-27T05:05:03.620363Z",
         "2025-09-27",
         "",
         "bronze.house_price",
         true
        ],
        [
         "{\"price\":\"10850000\",\"area\":\"7500\",\"bedrooms\":\"3\",\"bathrooms\":\"3\",\"stories\":\"1\",\"mainroad\":\"yes\",\"guestroom\":\"no\",\"basement\":\"yes\",\"hotwaterheating\":\"no\",\"airconditioning\":\"yes\",\"parking\":\"2\",\"prefarea\":\"yes\",\"furnishingstatus\":\"semi-furnished\"}",
         null,
         null,
         null,
         null,
         null,
         null,
         null,
         null,
         null,
         null,
         null,
         null,
         null,
         "{\"price\":\"10850000\",\"area\":\"7500\",\"bedrooms\":\"3\",\"bathrooms\":\"3\",\"stories\":\"1\",\"mainroad\":\"yes\",\"guestroom\":\"no\",\"basement\":\"yes\",\"hotwaterheating\":\"no\",\"airconditioning\":\"yes\",\"parking\":\"2\",\"prefarea\":\"yes\",\"furnishingstatus\":\"semi-furnished\"}",
         {
          "airconditioning": "yes",
          "area": "7500",
          "basement": "yes",
          "bathrooms": "3",
          "bedrooms": "3",
          "furnishingstatus": "semi-furnished",
          "guestroom": "no",
          "hotwaterheating": "no",
          "mainroad": "yes",
          "parking": "2",
          "prefarea": "yes",
          "price": "10850000",
          "stories": "1"
         },
         "2025-09-27T05:05:03.620363Z",
         "2025-09-27",
         "",
         "bronze.house_price",
         true
        ],
        [
         "{\"price\":\"11410000\",\"area\":\"7420\",\"bedrooms\":\"4\",\"bathrooms\":\"1\",\"stories\":\"2\",\"mainroad\":\"yes\",\"guestroom\":\"yes\",\"basement\":\"yes\",\"hotwaterheating\":\"no\",\"airconditioning\":\"yes\",\"parking\":\"2\",\"prefarea\":\"no\",\"furnishingstatus\":\"furnished\"}",
         null,
         null,
         null,
         null,
         null,
         null,
         null,
         null,
         null,
         null,
         null,
         null,
         null,
         "{\"price\":\"11410000\",\"area\":\"7420\",\"bedrooms\":\"4\",\"bathrooms\":\"1\",\"stories\":\"2\",\"mainroad\":\"yes\",\"guestroom\":\"yes\",\"basement\":\"yes\",\"hotwaterheating\":\"no\",\"airconditioning\":\"yes\",\"parking\":\"2\",\"prefarea\":\"no\",\"furnishingstatus\":\"furnished\"}",
         {
          "airconditioning": "yes",
          "area": "7420",
          "basement": "yes",
          "bathrooms": "1",
          "bedrooms": "4",
          "furnishingstatus": "furnished",
          "guestroom": "yes",
          "hotwaterheating": "no",
          "mainroad": "yes",
          "parking": "2",
          "prefarea": "no",
          "price": "11410000",
          "stories": "2"
         },
         "2025-09-27T05:05:03.620363Z",
         "2025-09-27",
         "",
         "bronze.house_price",
         true
        ],
        [
         "{\"price\":\"12215000\",\"area\":\"7500\",\"bedrooms\":\"4\",\"bathrooms\":\"2\",\"stories\":\"2\",\"mainroad\":\"yes\",\"guestroom\":\"no\",\"basement\":\"yes\",\"hotwaterheating\":\"no\",\"airconditioning\":\"yes\",\"parking\":\"3\",\"prefarea\":\"yes\",\"furnishingstatus\":\"furnished\"}",
         null,
         null,
         null,
         null,
         null,
         null,
         null,
         null,
         null,
         null,
         null,
         null,
         null,
         "{\"price\":\"12215000\",\"area\":\"7500\",\"bedrooms\":\"4\",\"bathrooms\":\"2\",\"stories\":\"2\",\"mainroad\":\"yes\",\"guestroom\":\"no\",\"basement\":\"yes\",\"hotwaterheating\":\"no\",\"airconditioning\":\"yes\",\"parking\":\"3\",\"prefarea\":\"yes\",\"furnishingstatus\":\"furnished\"}",
         {
          "airconditioning": "yes",
          "area": "7500",
          "basement": "yes",
          "bathrooms": "2",
          "bedrooms": "4",
          "furnishingstatus": "furnished",
          "guestroom": "no",
          "hotwaterheating": "no",
          "mainroad": "yes",
          "parking": "3",
          "prefarea": "yes",
          "price": "12215000",
          "stories": "2"
         },
         "2025-09-27T05:05:03.620363Z",
         "2025-09-27",
         "",
         "bronze.house_price",
         true
        ]
       ],
       "datasetInfos": [],
       "dbfsResultPath": null,
       "isJsonSchema": true,
       "metadata": {},
       "overflow": false,
       "plotOptions": {
        "customPlotOptions": {},
        "displayType": "table",
        "pivotAggregation": null,
        "pivotColumns": null,
        "xColumns": null,
        "yColumns": null
       },
       "removedWidgets": [],
       "schema": [
        {
         "metadata": "{}",
         "name": "value",
         "type": "\"string\""
        },
        {
         "metadata": "{}",
         "name": "airconditioning",
         "type": "\"string\""
        },
        {
         "metadata": "{}",
         "name": "area",
         "type": "\"string\""
        },
        {
         "metadata": "{}",
         "name": "basement",
         "type": "\"string\""
        },
        {
         "metadata": "{}",
         "name": "bathrooms",
         "type": "\"string\""
        },
        {
         "metadata": "{}",
         "name": "bedrooms",
         "type": "\"string\""
        },
        {
         "metadata": "{}",
         "name": "furnishingstatus",
         "type": "\"string\""
        },
        {
         "metadata": "{}",
         "name": "guestroom",
         "type": "\"string\""
        },
        {
         "metadata": "{}",
         "name": "hotwaterheating",
         "type": "\"string\""
        },
        {
         "metadata": "{}",
         "name": "mainroad",
         "type": "\"string\""
        },
        {
         "metadata": "{}",
         "name": "parking",
         "type": "\"string\""
        },
        {
         "metadata": "{}",
         "name": "prefarea",
         "type": "\"string\""
        },
        {
         "metadata": "{}",
         "name": "price",
         "type": "\"string\""
        },
        {
         "metadata": "{}",
         "name": "stories",
         "type": "\"string\""
        },
        {
         "metadata": "{}",
         "name": "value_clean",
         "type": "\"string\""
        },
        {
         "metadata": "{}",
         "name": "json_map",
         "type": "{\"type\":\"map\",\"keyType\":\"string\",\"valueType\":\"string\",\"valueContainsNull\":true}"
        },
        {
         "metadata": "{}",
         "name": "ingestion_timestamp",
         "type": "\"timestamp\""
        },
        {
         "metadata": "{}",
         "name": "ingestion_date",
         "type": "\"date\""
        },
        {
         "metadata": "{}",
         "name": "source_file",
         "type": "\"string\""
        },
        {
         "metadata": "{}",
         "name": "record_source",
         "type": "\"string\""
        },
        {
         "metadata": "{}",
         "name": "is_json",
         "type": "\"boolean\""
        }
       ],
       "type": "table"
      }
     },
     "output_type": "display_data"
    },
    {
     "output_type": "stream",
     "name": "stdout",
     "output_type": "stream",
     "text": [
      "Silver Sales Orders (version 0):\n"
     ]
    },
    {
     "output_type": "display_data",
     "data": {
      "text/html": [
       "<style scoped>\n",
       "  .table-result-container {\n",
       "    max-height: 300px;\n",
       "    overflow: auto;\n",
       "  }\n",
       "  table, th, td {\n",
       "    border: 1px solid black;\n",
       "    border-collapse: collapse;\n",
       "  }\n",
       "  th, td {\n",
       "    padding: 5px;\n",
       "  }\n",
       "  th {\n",
       "    text-align: left;\n",
       "  }\n",
       "</style><div class='table-result-container'><table class='table-result'><thead style='background-color: white'><tr><th>value</th><th>value_clean</th><th>ingestion_timestamp</th><th>ingestion_date</th><th>source_file</th><th>record_source</th></tr></thead><tbody><tr><td>1,2025-10-20 00:00:00.0000000,150,\"South\",\"Furniture\",7700.25</td><td>1,2025-10-20 00:00:00.0000000,150,\"South\",\"Furniture\",7700.25</td><td>2025-09-27T05:05:07.409632Z</td><td>2025-09-27</td><td></td><td>bronze.sales_orders</td></tr><tr><td>10,2025-09-10 00:00:00.0000000,110,\"South\",\"Electronics\",13400.00</td><td>10,2025-09-10 00:00:00.0000000,110,\"South\",\"Electronics\",13400.00</td><td>2025-09-27T05:05:07.409632Z</td><td>2025-09-27</td><td></td><td>bronze.sales_orders</td></tr><tr><td>11,2025-09-11 00:00:00.0000000,111,\"East\",\"Furniture\",8900.75</td><td>11,2025-09-11 00:00:00.0000000,111,\"East\",\"Furniture\",8900.75</td><td>2025-09-27T05:05:07.409632Z</td><td>2025-09-27</td><td></td><td>bronze.sales_orders</td></tr><tr><td>12,2025-09-12 00:00:00.0000000,112,\"North\",\"Office Supplies\",510.00</td><td>12,2025-09-12 00:00:00.0000000,112,\"North\",\"Office Supplies\",510.00</td><td>2025-09-27T05:05:07.409632Z</td><td>2025-09-27</td><td></td><td>bronze.sales_orders</td></tr><tr><td>13,2025-09-13 00:00:00.0000000,113,\"West\",\"Electronics\",14200.00</td><td>13,2025-09-13 00:00:00.0000000,113,\"West\",\"Electronics\",14200.00</td><td>2025-09-27T05:05:07.409632Z</td><td>2025-09-27</td><td></td><td>bronze.sales_orders</td></tr></tbody></table></div>"
      ]
     },
     "metadata": {
      "application/vnd.databricks.v1+output": {
       "addedWidgets": {},
       "aggData": [],
       "aggError": "",
       "aggOverflow": false,
       "aggSchema": [],
       "aggSeriesLimitReached": false,
       "aggType": "",
       "arguments": {},
       "columnCustomDisplayInfos": {},
       "data": [
        [
         "1,2025-10-20 00:00:00.0000000,150,\"South\",\"Furniture\",7700.25",
         "1,2025-10-20 00:00:00.0000000,150,\"South\",\"Furniture\",7700.25",
         "2025-09-27T05:05:07.409632Z",
         "2025-09-27",
         "",
         "bronze.sales_orders"
        ],
        [
         "10,2025-09-10 00:00:00.0000000,110,\"South\",\"Electronics\",13400.00",
         "10,2025-09-10 00:00:00.0000000,110,\"South\",\"Electronics\",13400.00",
         "2025-09-27T05:05:07.409632Z",
         "2025-09-27",
         "",
         "bronze.sales_orders"
        ],
        [
         "11,2025-09-11 00:00:00.0000000,111,\"East\",\"Furniture\",8900.75",
         "11,2025-09-11 00:00:00.0000000,111,\"East\",\"Furniture\",8900.75",
         "2025-09-27T05:05:07.409632Z",
         "2025-09-27",
         "",
         "bronze.sales_orders"
        ],
        [
         "12,2025-09-12 00:00:00.0000000,112,\"North\",\"Office Supplies\",510.00",
         "12,2025-09-12 00:00:00.0000000,112,\"North\",\"Office Supplies\",510.00",
         "2025-09-27T05:05:07.409632Z",
         "2025-09-27",
         "",
         "bronze.sales_orders"
        ],
        [
         "13,2025-09-13 00:00:00.0000000,113,\"West\",\"Electronics\",14200.00",
         "13,2025-09-13 00:00:00.0000000,113,\"West\",\"Electronics\",14200.00",
         "2025-09-27T05:05:07.409632Z",
         "2025-09-27",
         "",
         "bronze.sales_orders"
        ]
       ],
       "datasetInfos": [],
       "dbfsResultPath": null,
       "isJsonSchema": true,
       "metadata": {},
       "overflow": false,
       "plotOptions": {
        "customPlotOptions": {},
        "displayType": "table",
        "pivotAggregation": null,
        "pivotColumns": null,
        "xColumns": null,
        "yColumns": null
       },
       "removedWidgets": [],
       "schema": [
        {
         "metadata": "{}",
         "name": "value",
         "type": "\"string\""
        },
        {
         "metadata": "{}",
         "name": "value_clean",
         "type": "\"string\""
        },
        {
         "metadata": "{}",
         "name": "ingestion_timestamp",
         "type": "\"timestamp\""
        },
        {
         "metadata": "{}",
         "name": "ingestion_date",
         "type": "\"date\""
        },
        {
         "metadata": "{}",
         "name": "source_file",
         "type": "\"string\""
        },
        {
         "metadata": "{}",
         "name": "record_source",
         "type": "\"string\""
        }
       ],
       "type": "table"
      }
     },
     "output_type": "display_data"
    },
    {
     "output_type": "stream",
     "name": "stdout",
     "output_type": "stream",
     "text": [
      "Silver World Population (version 0):\n"
     ]
    },
    {
     "output_type": "display_data",
     "data": {
      "text/html": [
       "<style scoped>\n",
       "  .table-result-container {\n",
       "    max-height: 300px;\n",
       "    overflow: auto;\n",
       "  }\n",
       "  table, th, td {\n",
       "    border: 1px solid black;\n",
       "    border-collapse: collapse;\n",
       "  }\n",
       "  th, td {\n",
       "    padding: 5px;\n",
       "  }\n",
       "  th {\n",
       "    text-align: left;\n",
       "  }\n",
       "</style><div class='table-result-container'><table class='table-result'><thead style='background-color: white'><tr><th>value</th><th>value_clean</th><th>ingestion_timestamp</th><th>ingestion_date</th><th>source_file</th><th>record_source</th></tr></thead><tbody><tr><td>\"1,CHN,China,Beijing,Asia,1425887337,1424929781,1393715448,1348191368,1264099069,1153704252,982372466,822534450,9706961,146.8933,1,17.88\"</td><td>\"1,CHN,China,Beijing,Asia,1425887337,1424929781,1393715448,1348191368,1264099069,1153704252,982372466,822534450,9706961,146.8933,1,17.88\"</td><td>2025-09-27T05:05:09.054741Z</td><td>2025-09-27</td><td></td><td>bronze.world_population</td></tr><tr><td>\"10,MEX,Mexico,Mexico City,North America,127504125,125998302,120149897,112532401,97873442,81720428,67705186,50289306,1964375,64.9082,1.0063,1.6\"</td><td>\"10,MEX,Mexico,Mexico City,North America,127504125,125998302,120149897,112532401,97873442,81720428,67705186,50289306,1964375,64.9082,1.0063,1.6\"</td><td>2025-09-27T05:05:09.054741Z</td><td>2025-09-27</td><td></td><td>bronze.world_population</td></tr><tr><td>\"100,TGO,Togo,Lomé,Africa,8848699,8442580,7473229,6571855,5008035,3875947,2838110,2197383,56785,155.8281,1.0236,0.11\"</td><td>\"100,TGO,Togo,Lomé,Africa,8848699,8442580,7473229,6571855,5008035,3875947,2838110,2197383,56785,155.8281,1.0236,0.11\"</td><td>2025-09-27T05:05:09.054741Z</td><td>2025-09-27</td><td></td><td>bronze.world_population</td></tr><tr><td>\"101,CHE,Switzerland,Bern,Europe,8740472,8638613,8281732,7822435,7182059,6711693,6319113,6181227,41284,211.7157,1.0056,0.11\"</td><td>\"101,CHE,Switzerland,Bern,Europe,8740472,8638613,8281732,7822435,7182059,6711693,6319113,6181227,41284,211.7157,1.0056,0.11\"</td><td>2025-09-27T05:05:09.054741Z</td><td>2025-09-27</td><td></td><td>bronze.world_population</td></tr><tr><td>\"102,SLE,Sierra Leone,Freetown,Africa,8605718,8233969,7314773,6436698,4584067,4325388,3367477,2778557,71740,119.957,1.022,0.11\"</td><td>\"102,SLE,Sierra Leone,Freetown,Africa,8605718,8233969,7314773,6436698,4584067,4325388,3367477,2778557,71740,119.957,1.022,0.11\"</td><td>2025-09-27T05:05:09.054741Z</td><td>2025-09-27</td><td></td><td>bronze.world_population</td></tr></tbody></table></div>"
      ]
     },
     "metadata": {
      "application/vnd.databricks.v1+output": {
       "addedWidgets": {},
       "aggData": [],
       "aggError": "",
       "aggOverflow": false,
       "aggSchema": [],
       "aggSeriesLimitReached": false,
       "aggType": "",
       "arguments": {},
       "columnCustomDisplayInfos": {},
       "data": [
        [
         "\"1,CHN,China,Beijing,Asia,1425887337,1424929781,1393715448,1348191368,1264099069,1153704252,982372466,822534450,9706961,146.8933,1,17.88\"",
         "\"1,CHN,China,Beijing,Asia,1425887337,1424929781,1393715448,1348191368,1264099069,1153704252,982372466,822534450,9706961,146.8933,1,17.88\"",
         "2025-09-27T05:05:09.054741Z",
         "2025-09-27",
         "",
         "bronze.world_population"
        ],
        [
         "\"10,MEX,Mexico,Mexico City,North America,127504125,125998302,120149897,112532401,97873442,81720428,67705186,50289306,1964375,64.9082,1.0063,1.6\"",
         "\"10,MEX,Mexico,Mexico City,North America,127504125,125998302,120149897,112532401,97873442,81720428,67705186,50289306,1964375,64.9082,1.0063,1.6\"",
         "2025-09-27T05:05:09.054741Z",
         "2025-09-27",
         "",
         "bronze.world_population"
        ],
        [
         "\"100,TGO,Togo,Lomé,Africa,8848699,8442580,7473229,6571855,5008035,3875947,2838110,2197383,56785,155.8281,1.0236,0.11\"",
         "\"100,TGO,Togo,Lomé,Africa,8848699,8442580,7473229,6571855,5008035,3875947,2838110,2197383,56785,155.8281,1.0236,0.11\"",
         "2025-09-27T05:05:09.054741Z",
         "2025-09-27",
         "",
         "bronze.world_population"
        ],
        [
         "\"101,CHE,Switzerland,Bern,Europe,8740472,8638613,8281732,7822435,7182059,6711693,6319113,6181227,41284,211.7157,1.0056,0.11\"",
         "\"101,CHE,Switzerland,Bern,Europe,8740472,8638613,8281732,7822435,7182059,6711693,6319113,6181227,41284,211.7157,1.0056,0.11\"",
         "2025-09-27T05:05:09.054741Z",
         "2025-09-27",
         "",
         "bronze.world_population"
        ],
        [
         "\"102,SLE,Sierra Leone,Freetown,Africa,8605718,8233969,7314773,6436698,4584067,4325388,3367477,2778557,71740,119.957,1.022,0.11\"",
         "\"102,SLE,Sierra Leone,Freetown,Africa,8605718,8233969,7314773,6436698,4584067,4325388,3367477,2778557,71740,119.957,1.022,0.11\"",
         "2025-09-27T05:05:09.054741Z",
         "2025-09-27",
         "",
         "bronze.world_population"
        ]
       ],
       "datasetInfos": [],
       "dbfsResultPath": null,
       "isJsonSchema": true,
       "metadata": {},
       "overflow": false,
       "plotOptions": {
        "customPlotOptions": {},
        "displayType": "table",
        "pivotAggregation": null,
        "pivotColumns": null,
        "xColumns": null,
        "yColumns": null
       },
       "removedWidgets": [],
       "schema": [
        {
         "metadata": "{}",
         "name": "value",
         "type": "\"string\""
        },
        {
         "metadata": "{}",
         "name": "value_clean",
         "type": "\"string\""
        },
        {
         "metadata": "{}",
         "name": "ingestion_timestamp",
         "type": "\"timestamp\""
        },
        {
         "metadata": "{}",
         "name": "ingestion_date",
         "type": "\"date\""
        },
        {
         "metadata": "{}",
         "name": "source_file",
         "type": "\"string\""
        },
        {
         "metadata": "{}",
         "name": "record_source",
         "type": "\"string\""
        }
       ],
       "type": "table"
      }
     },
     "output_type": "display_data"
    },
    {
     "output_type": "stream",
     "name": "stdout",
     "output_type": "stream",
     "text": [
      "Silver House Price (timestampAsOf=2025-09-27 05:05:07):\n"
     ]
    },
    {
     "output_type": "display_data",
     "data": {
      "text/html": [
       "<style scoped>\n",
       "  .table-result-container {\n",
       "    max-height: 300px;\n",
       "    overflow: auto;\n",
       "  }\n",
       "  table, th, td {\n",
       "    border: 1px solid black;\n",
       "    border-collapse: collapse;\n",
       "  }\n",
       "  th, td {\n",
       "    padding: 5px;\n",
       "  }\n",
       "  th {\n",
       "    text-align: left;\n",
       "  }\n",
       "</style><div class='table-result-container'><table class='table-result'><thead style='background-color: white'><tr><th>value</th><th>airconditioning</th><th>area</th><th>basement</th><th>bathrooms</th><th>bedrooms</th><th>furnishingstatus</th><th>guestroom</th><th>hotwaterheating</th><th>mainroad</th><th>parking</th><th>prefarea</th><th>price</th><th>stories</th><th>value_clean</th><th>json_map</th><th>ingestion_timestamp</th><th>ingestion_date</th><th>source_file</th><th>record_source</th><th>is_json</th></tr></thead><tbody><tr><td>{\"price\":\"10150000\",\"area\":\"16200\",\"bedrooms\":\"5\",\"bathrooms\":\"3\",\"stories\":\"2\",\"mainroad\":\"yes\",\"guestroom\":\"no\",\"basement\":\"no\",\"hotwaterheating\":\"no\",\"airconditioning\":\"no\",\"parking\":\"0\",\"prefarea\":\"no\",\"furnishingstatus\":\"unfurnished\"}</td><td>null</td><td>null</td><td>null</td><td>null</td><td>null</td><td>null</td><td>null</td><td>null</td><td>null</td><td>null</td><td>null</td><td>null</td><td>null</td><td>{\"price\":\"10150000\",\"area\":\"16200\",\"bedrooms\":\"5\",\"bathrooms\":\"3\",\"stories\":\"2\",\"mainroad\":\"yes\",\"guestroom\":\"no\",\"basement\":\"no\",\"hotwaterheating\":\"no\",\"airconditioning\":\"no\",\"parking\":\"0\",\"prefarea\":\"no\",\"furnishingstatus\":\"unfurnished\"}</td><td>Map(bedrooms -> 5, area -> 16200, stories -> 2, price -> 10150000, furnishingstatus -> unfurnished, mainroad -> yes, airconditioning -> no, guestroom -> no, bathrooms -> 3, parking -> 0, basement -> no, hotwaterheating -> no, prefarea -> no)</td><td>2025-09-27T05:05:03.620363Z</td><td>2025-09-27</td><td></td><td>bronze.house_price</td><td>true</td></tr><tr><td>{\"price\":\"10150000\",\"area\":\"8580\",\"bedrooms\":\"4\",\"bathrooms\":\"3\",\"stories\":\"4\",\"mainroad\":\"yes\",\"guestroom\":\"no\",\"basement\":\"no\",\"hotwaterheating\":\"no\",\"airconditioning\":\"yes\",\"parking\":\"2\",\"prefarea\":\"yes\",\"furnishingstatus\":\"semi-furnished\"}</td><td>null</td><td>null</td><td>null</td><td>null</td><td>null</td><td>null</td><td>null</td><td>null</td><td>null</td><td>null</td><td>null</td><td>null</td><td>null</td><td>{\"price\":\"10150000\",\"area\":\"8580\",\"bedrooms\":\"4\",\"bathrooms\":\"3\",\"stories\":\"4\",\"mainroad\":\"yes\",\"guestroom\":\"no\",\"basement\":\"no\",\"hotwaterheating\":\"no\",\"airconditioning\":\"yes\",\"parking\":\"2\",\"prefarea\":\"yes\",\"furnishingstatus\":\"semi-furnished\"}</td><td>Map(bedrooms -> 4, area -> 8580, stories -> 4, price -> 10150000, furnishingstatus -> semi-furnished, mainroad -> yes, airconditioning -> yes, guestroom -> no, bathrooms -> 3, parking -> 2, basement -> no, hotwaterheating -> no, prefarea -> yes)</td><td>2025-09-27T05:05:03.620363Z</td><td>2025-09-27</td><td></td><td>bronze.house_price</td><td>true</td></tr><tr><td>{\"price\":\"10850000\",\"area\":\"7500\",\"bedrooms\":\"3\",\"bathrooms\":\"3\",\"stories\":\"1\",\"mainroad\":\"yes\",\"guestroom\":\"no\",\"basement\":\"yes\",\"hotwaterheating\":\"no\",\"airconditioning\":\"yes\",\"parking\":\"2\",\"prefarea\":\"yes\",\"furnishingstatus\":\"semi-furnished\"}</td><td>null</td><td>null</td><td>null</td><td>null</td><td>null</td><td>null</td><td>null</td><td>null</td><td>null</td><td>null</td><td>null</td><td>null</td><td>null</td><td>{\"price\":\"10850000\",\"area\":\"7500\",\"bedrooms\":\"3\",\"bathrooms\":\"3\",\"stories\":\"1\",\"mainroad\":\"yes\",\"guestroom\":\"no\",\"basement\":\"yes\",\"hotwaterheating\":\"no\",\"airconditioning\":\"yes\",\"parking\":\"2\",\"prefarea\":\"yes\",\"furnishingstatus\":\"semi-furnished\"}</td><td>Map(bedrooms -> 3, area -> 7500, stories -> 1, price -> 10850000, furnishingstatus -> semi-furnished, mainroad -> yes, airconditioning -> yes, guestroom -> no, bathrooms -> 3, parking -> 2, basement -> yes, hotwaterheating -> no, prefarea -> yes)</td><td>2025-09-27T05:05:03.620363Z</td><td>2025-09-27</td><td></td><td>bronze.house_price</td><td>true</td></tr><tr><td>{\"price\":\"11410000\",\"area\":\"7420\",\"bedrooms\":\"4\",\"bathrooms\":\"1\",\"stories\":\"2\",\"mainroad\":\"yes\",\"guestroom\":\"yes\",\"basement\":\"yes\",\"hotwaterheating\":\"no\",\"airconditioning\":\"yes\",\"parking\":\"2\",\"prefarea\":\"no\",\"furnishingstatus\":\"furnished\"}</td><td>null</td><td>null</td><td>null</td><td>null</td><td>null</td><td>null</td><td>null</td><td>null</td><td>null</td><td>null</td><td>null</td><td>null</td><td>null</td><td>{\"price\":\"11410000\",\"area\":\"7420\",\"bedrooms\":\"4\",\"bathrooms\":\"1\",\"stories\":\"2\",\"mainroad\":\"yes\",\"guestroom\":\"yes\",\"basement\":\"yes\",\"hotwaterheating\":\"no\",\"airconditioning\":\"yes\",\"parking\":\"2\",\"prefarea\":\"no\",\"furnishingstatus\":\"furnished\"}</td><td>Map(bedrooms -> 4, area -> 7420, stories -> 2, price -> 11410000, furnishingstatus -> furnished, mainroad -> yes, airconditioning -> yes, guestroom -> yes, bathrooms -> 1, parking -> 2, basement -> yes, hotwaterheating -> no, prefarea -> no)</td><td>2025-09-27T05:05:03.620363Z</td><td>2025-09-27</td><td></td><td>bronze.house_price</td><td>true</td></tr><tr><td>{\"price\":\"12215000\",\"area\":\"7500\",\"bedrooms\":\"4\",\"bathrooms\":\"2\",\"stories\":\"2\",\"mainroad\":\"yes\",\"guestroom\":\"no\",\"basement\":\"yes\",\"hotwaterheating\":\"no\",\"airconditioning\":\"yes\",\"parking\":\"3\",\"prefarea\":\"yes\",\"furnishingstatus\":\"furnished\"}</td><td>null</td><td>null</td><td>null</td><td>null</td><td>null</td><td>null</td><td>null</td><td>null</td><td>null</td><td>null</td><td>null</td><td>null</td><td>null</td><td>{\"price\":\"12215000\",\"area\":\"7500\",\"bedrooms\":\"4\",\"bathrooms\":\"2\",\"stories\":\"2\",\"mainroad\":\"yes\",\"guestroom\":\"no\",\"basement\":\"yes\",\"hotwaterheating\":\"no\",\"airconditioning\":\"yes\",\"parking\":\"3\",\"prefarea\":\"yes\",\"furnishingstatus\":\"furnished\"}</td><td>Map(bedrooms -> 4, area -> 7500, stories -> 2, price -> 12215000, furnishingstatus -> furnished, mainroad -> yes, airconditioning -> yes, guestroom -> no, bathrooms -> 2, parking -> 3, basement -> yes, hotwaterheating -> no, prefarea -> yes)</td><td>2025-09-27T05:05:03.620363Z</td><td>2025-09-27</td><td></td><td>bronze.house_price</td><td>true</td></tr></tbody></table></div>"
      ]
     },
     "metadata": {
      "application/vnd.databricks.v1+output": {
       "addedWidgets": {},
       "aggData": [],
       "aggError": "",
       "aggOverflow": false,
       "aggSchema": [],
       "aggSeriesLimitReached": false,
       "aggType": "",
       "arguments": {},
       "columnCustomDisplayInfos": {},
       "data": [
        [
         "{\"price\":\"10150000\",\"area\":\"16200\",\"bedrooms\":\"5\",\"bathrooms\":\"3\",\"stories\":\"2\",\"mainroad\":\"yes\",\"guestroom\":\"no\",\"basement\":\"no\",\"hotwaterheating\":\"no\",\"airconditioning\":\"no\",\"parking\":\"0\",\"prefarea\":\"no\",\"furnishingstatus\":\"unfurnished\"}",
         null,
         null,
         null,
         null,
         null,
         null,
         null,
         null,
         null,
         null,
         null,
         null,
         null,
         "{\"price\":\"10150000\",\"area\":\"16200\",\"bedrooms\":\"5\",\"bathrooms\":\"3\",\"stories\":\"2\",\"mainroad\":\"yes\",\"guestroom\":\"no\",\"basement\":\"no\",\"hotwaterheating\":\"no\",\"airconditioning\":\"no\",\"parking\":\"0\",\"prefarea\":\"no\",\"furnishingstatus\":\"unfurnished\"}",
         {
          "airconditioning": "no",
          "area": "16200",
          "basement": "no",
          "bathrooms": "3",
          "bedrooms": "5",
          "furnishingstatus": "unfurnished",
          "guestroom": "no",
          "hotwaterheating": "no",
          "mainroad": "yes",
          "parking": "0",
          "prefarea": "no",
          "price": "10150000",
          "stories": "2"
         },
         "2025-09-27T05:05:03.620363Z",
         "2025-09-27",
         "",
         "bronze.house_price",
         true
        ],
        [
         "{\"price\":\"10150000\",\"area\":\"8580\",\"bedrooms\":\"4\",\"bathrooms\":\"3\",\"stories\":\"4\",\"mainroad\":\"yes\",\"guestroom\":\"no\",\"basement\":\"no\",\"hotwaterheating\":\"no\",\"airconditioning\":\"yes\",\"parking\":\"2\",\"prefarea\":\"yes\",\"furnishingstatus\":\"semi-furnished\"}",
         null,
         null,
         null,
         null,
         null,
         null,
         null,
         null,
         null,
         null,
         null,
         null,
         null,
         "{\"price\":\"10150000\",\"area\":\"8580\",\"bedrooms\":\"4\",\"bathrooms\":\"3\",\"stories\":\"4\",\"mainroad\":\"yes\",\"guestroom\":\"no\",\"basement\":\"no\",\"hotwaterheating\":\"no\",\"airconditioning\":\"yes\",\"parking\":\"2\",\"prefarea\":\"yes\",\"furnishingstatus\":\"semi-furnished\"}",
         {
          "airconditioning": "yes",
          "area": "8580",
          "basement": "no",
          "bathrooms": "3",
          "bedrooms": "4",
          "furnishingstatus": "semi-furnished",
          "guestroom": "no",
          "hotwaterheating": "no",
          "mainroad": "yes",
          "parking": "2",
          "prefarea": "yes",
          "price": "10150000",
          "stories": "4"
         },
         "2025-09-27T05:05:03.620363Z",
         "2025-09-27",
         "",
         "bronze.house_price",
         true
        ],
        [
         "{\"price\":\"10850000\",\"area\":\"7500\",\"bedrooms\":\"3\",\"bathrooms\":\"3\",\"stories\":\"1\",\"mainroad\":\"yes\",\"guestroom\":\"no\",\"basement\":\"yes\",\"hotwaterheating\":\"no\",\"airconditioning\":\"yes\",\"parking\":\"2\",\"prefarea\":\"yes\",\"furnishingstatus\":\"semi-furnished\"}",
         null,
         null,
         null,
         null,
         null,
         null,
         null,
         null,
         null,
         null,
         null,
         null,
         null,
         "{\"price\":\"10850000\",\"area\":\"7500\",\"bedrooms\":\"3\",\"bathrooms\":\"3\",\"stories\":\"1\",\"mainroad\":\"yes\",\"guestroom\":\"no\",\"basement\":\"yes\",\"hotwaterheating\":\"no\",\"airconditioning\":\"yes\",\"parking\":\"2\",\"prefarea\":\"yes\",\"furnishingstatus\":\"semi-furnished\"}",
         {
          "airconditioning": "yes",
          "area": "7500",
          "basement": "yes",
          "bathrooms": "3",
          "bedrooms": "3",
          "furnishingstatus": "semi-furnished",
          "guestroom": "no",
          "hotwaterheating": "no",
          "mainroad": "yes",
          "parking": "2",
          "prefarea": "yes",
          "price": "10850000",
          "stories": "1"
         },
         "2025-09-27T05:05:03.620363Z",
         "2025-09-27",
         "",
         "bronze.house_price",
         true
        ],
        [
         "{\"price\":\"11410000\",\"area\":\"7420\",\"bedrooms\":\"4\",\"bathrooms\":\"1\",\"stories\":\"2\",\"mainroad\":\"yes\",\"guestroom\":\"yes\",\"basement\":\"yes\",\"hotwaterheating\":\"no\",\"airconditioning\":\"yes\",\"parking\":\"2\",\"prefarea\":\"no\",\"furnishingstatus\":\"furnished\"}",
         null,
         null,
         null,
         null,
         null,
         null,
         null,
         null,
         null,
         null,
         null,
         null,
         null,
         "{\"price\":\"11410000\",\"area\":\"7420\",\"bedrooms\":\"4\",\"bathrooms\":\"1\",\"stories\":\"2\",\"mainroad\":\"yes\",\"guestroom\":\"yes\",\"basement\":\"yes\",\"hotwaterheating\":\"no\",\"airconditioning\":\"yes\",\"parking\":\"2\",\"prefarea\":\"no\",\"furnishingstatus\":\"furnished\"}",
         {
          "airconditioning": "yes",
          "area": "7420",
          "basement": "yes",
          "bathrooms": "1",
          "bedrooms": "4",
          "furnishingstatus": "furnished",
          "guestroom": "yes",
          "hotwaterheating": "no",
          "mainroad": "yes",
          "parking": "2",
          "prefarea": "no",
          "price": "11410000",
          "stories": "2"
         },
         "2025-09-27T05:05:03.620363Z",
         "2025-09-27",
         "",
         "bronze.house_price",
         true
        ],
        [
         "{\"price\":\"12215000\",\"area\":\"7500\",\"bedrooms\":\"4\",\"bathrooms\":\"2\",\"stories\":\"2\",\"mainroad\":\"yes\",\"guestroom\":\"no\",\"basement\":\"yes\",\"hotwaterheating\":\"no\",\"airconditioning\":\"yes\",\"parking\":\"3\",\"prefarea\":\"yes\",\"furnishingstatus\":\"furnished\"}",
         null,
         null,
         null,
         null,
         null,
         null,
         null,
         null,
         null,
         null,
         null,
         null,
         null,
         "{\"price\":\"12215000\",\"area\":\"7500\",\"bedrooms\":\"4\",\"bathrooms\":\"2\",\"stories\":\"2\",\"mainroad\":\"yes\",\"guestroom\":\"no\",\"basement\":\"yes\",\"hotwaterheating\":\"no\",\"airconditioning\":\"yes\",\"parking\":\"3\",\"prefarea\":\"yes\",\"furnishingstatus\":\"furnished\"}",
         {
          "airconditioning": "yes",
          "area": "7500",
          "basement": "yes",
          "bathrooms": "2",
          "bedrooms": "4",
          "furnishingstatus": "furnished",
          "guestroom": "no",
          "hotwaterheating": "no",
          "mainroad": "yes",
          "parking": "3",
          "prefarea": "yes",
          "price": "12215000",
          "stories": "2"
         },
         "2025-09-27T05:05:03.620363Z",
         "2025-09-27",
         "",
         "bronze.house_price",
         true
        ]
       ],
       "datasetInfos": [],
       "dbfsResultPath": null,
       "isJsonSchema": true,
       "metadata": {},
       "overflow": false,
       "plotOptions": {
        "customPlotOptions": {},
        "displayType": "table",
        "pivotAggregation": null,
        "pivotColumns": null,
        "xColumns": null,
        "yColumns": null
       },
       "removedWidgets": [],
       "schema": [
        {
         "metadata": "{}",
         "name": "value",
         "type": "\"string\""
        },
        {
         "metadata": "{}",
         "name": "airconditioning",
         "type": "\"string\""
        },
        {
         "metadata": "{}",
         "name": "area",
         "type": "\"string\""
        },
        {
         "metadata": "{}",
         "name": "basement",
         "type": "\"string\""
        },
        {
         "metadata": "{}",
         "name": "bathrooms",
         "type": "\"string\""
        },
        {
         "metadata": "{}",
         "name": "bedrooms",
         "type": "\"string\""
        },
        {
         "metadata": "{}",
         "name": "furnishingstatus",
         "type": "\"string\""
        },
        {
         "metadata": "{}",
         "name": "guestroom",
         "type": "\"string\""
        },
        {
         "metadata": "{}",
         "name": "hotwaterheating",
         "type": "\"string\""
        },
        {
         "metadata": "{}",
         "name": "mainroad",
         "type": "\"string\""
        },
        {
         "metadata": "{}",
         "name": "parking",
         "type": "\"string\""
        },
        {
         "metadata": "{}",
         "name": "prefarea",
         "type": "\"string\""
        },
        {
         "metadata": "{}",
         "name": "price",
         "type": "\"string\""
        },
        {
         "metadata": "{}",
         "name": "stories",
         "type": "\"string\""
        },
        {
         "metadata": "{}",
         "name": "value_clean",
         "type": "\"string\""
        },
        {
         "metadata": "{}",
         "name": "json_map",
         "type": "{\"type\":\"map\",\"keyType\":\"string\",\"valueType\":\"string\",\"valueContainsNull\":true}"
        },
        {
         "metadata": "{}",
         "name": "ingestion_timestamp",
         "type": "\"timestamp\""
        },
        {
         "metadata": "{}",
         "name": "ingestion_date",
         "type": "\"date\""
        },
        {
         "metadata": "{}",
         "name": "source_file",
         "type": "\"string\""
        },
        {
         "metadata": "{}",
         "name": "record_source",
         "type": "\"string\""
        },
        {
         "metadata": "{}",
         "name": "is_json",
         "type": "\"boolean\""
        }
       ],
       "type": "table"
      }
     },
     "output_type": "display_data"
    },
    {
     "output_type": "stream",
     "name": "stdout",
     "output_type": "stream",
     "text": [
      "Silver Sales Orders (timestampAsOf=2025-09-27 05:05:08):\n"
     ]
    },
    {
     "output_type": "display_data",
     "data": {
      "text/html": [
       "<style scoped>\n",
       "  .table-result-container {\n",
       "    max-height: 300px;\n",
       "    overflow: auto;\n",
       "  }\n",
       "  table, th, td {\n",
       "    border: 1px solid black;\n",
       "    border-collapse: collapse;\n",
       "  }\n",
       "  th, td {\n",
       "    padding: 5px;\n",
       "  }\n",
       "  th {\n",
       "    text-align: left;\n",
       "  }\n",
       "</style><div class='table-result-container'><table class='table-result'><thead style='background-color: white'><tr><th>value</th><th>value_clean</th><th>ingestion_timestamp</th><th>ingestion_date</th><th>source_file</th><th>record_source</th></tr></thead><tbody><tr><td>1,2025-10-20 00:00:00.0000000,150,\"South\",\"Furniture\",7700.25</td><td>1,2025-10-20 00:00:00.0000000,150,\"South\",\"Furniture\",7700.25</td><td>2025-09-27T05:05:07.409632Z</td><td>2025-09-27</td><td></td><td>bronze.sales_orders</td></tr><tr><td>10,2025-09-10 00:00:00.0000000,110,\"South\",\"Electronics\",13400.00</td><td>10,2025-09-10 00:00:00.0000000,110,\"South\",\"Electronics\",13400.00</td><td>2025-09-27T05:05:07.409632Z</td><td>2025-09-27</td><td></td><td>bronze.sales_orders</td></tr><tr><td>11,2025-09-11 00:00:00.0000000,111,\"East\",\"Furniture\",8900.75</td><td>11,2025-09-11 00:00:00.0000000,111,\"East\",\"Furniture\",8900.75</td><td>2025-09-27T05:05:07.409632Z</td><td>2025-09-27</td><td></td><td>bronze.sales_orders</td></tr><tr><td>12,2025-09-12 00:00:00.0000000,112,\"North\",\"Office Supplies\",510.00</td><td>12,2025-09-12 00:00:00.0000000,112,\"North\",\"Office Supplies\",510.00</td><td>2025-09-27T05:05:07.409632Z</td><td>2025-09-27</td><td></td><td>bronze.sales_orders</td></tr><tr><td>13,2025-09-13 00:00:00.0000000,113,\"West\",\"Electronics\",14200.00</td><td>13,2025-09-13 00:00:00.0000000,113,\"West\",\"Electronics\",14200.00</td><td>2025-09-27T05:05:07.409632Z</td><td>2025-09-27</td><td></td><td>bronze.sales_orders</td></tr></tbody></table></div>"
      ]
     },
     "metadata": {
      "application/vnd.databricks.v1+output": {
       "addedWidgets": {},
       "aggData": [],
       "aggError": "",
       "aggOverflow": false,
       "aggSchema": [],
       "aggSeriesLimitReached": false,
       "aggType": "",
       "arguments": {},
       "columnCustomDisplayInfos": {},
       "data": [
        [
         "1,2025-10-20 00:00:00.0000000,150,\"South\",\"Furniture\",7700.25",
         "1,2025-10-20 00:00:00.0000000,150,\"South\",\"Furniture\",7700.25",
         "2025-09-27T05:05:07.409632Z",
         "2025-09-27",
         "",
         "bronze.sales_orders"
        ],
        [
         "10,2025-09-10 00:00:00.0000000,110,\"South\",\"Electronics\",13400.00",
         "10,2025-09-10 00:00:00.0000000,110,\"South\",\"Electronics\",13400.00",
         "2025-09-27T05:05:07.409632Z",
         "2025-09-27",
         "",
         "bronze.sales_orders"
        ],
        [
         "11,2025-09-11 00:00:00.0000000,111,\"East\",\"Furniture\",8900.75",
         "11,2025-09-11 00:00:00.0000000,111,\"East\",\"Furniture\",8900.75",
         "2025-09-27T05:05:07.409632Z",
         "2025-09-27",
         "",
         "bronze.sales_orders"
        ],
        [
         "12,2025-09-12 00:00:00.0000000,112,\"North\",\"Office Supplies\",510.00",
         "12,2025-09-12 00:00:00.0000000,112,\"North\",\"Office Supplies\",510.00",
         "2025-09-27T05:05:07.409632Z",
         "2025-09-27",
         "",
         "bronze.sales_orders"
        ],
        [
         "13,2025-09-13 00:00:00.0000000,113,\"West\",\"Electronics\",14200.00",
         "13,2025-09-13 00:00:00.0000000,113,\"West\",\"Electronics\",14200.00",
         "2025-09-27T05:05:07.409632Z",
         "2025-09-27",
         "",
         "bronze.sales_orders"
        ]
       ],
       "datasetInfos": [],
       "dbfsResultPath": null,
       "isJsonSchema": true,
       "metadata": {},
       "overflow": false,
       "plotOptions": {
        "customPlotOptions": {},
        "displayType": "table",
        "pivotAggregation": null,
        "pivotColumns": null,
        "xColumns": null,
        "yColumns": null
       },
       "removedWidgets": [],
       "schema": [
        {
         "metadata": "{}",
         "name": "value",
         "type": "\"string\""
        },
        {
         "metadata": "{}",
         "name": "value_clean",
         "type": "\"string\""
        },
        {
         "metadata": "{}",
         "name": "ingestion_timestamp",
         "type": "\"timestamp\""
        },
        {
         "metadata": "{}",
         "name": "ingestion_date",
         "type": "\"date\""
        },
        {
         "metadata": "{}",
         "name": "source_file",
         "type": "\"string\""
        },
        {
         "metadata": "{}",
         "name": "record_source",
         "type": "\"string\""
        }
       ],
       "type": "table"
      }
     },
     "output_type": "display_data"
    },
    {
     "output_type": "stream",
     "name": "stdout",
     "output_type": "stream",
     "text": [
      "Silver World Population (timestampAsOf=2025-09-27 05:05:10):\n"
     ]
    },
    {
     "output_type": "display_data",
     "data": {
      "text/html": [
       "<style scoped>\n",
       "  .table-result-container {\n",
       "    max-height: 300px;\n",
       "    overflow: auto;\n",
       "  }\n",
       "  table, th, td {\n",
       "    border: 1px solid black;\n",
       "    border-collapse: collapse;\n",
       "  }\n",
       "  th, td {\n",
       "    padding: 5px;\n",
       "  }\n",
       "  th {\n",
       "    text-align: left;\n",
       "  }\n",
       "</style><div class='table-result-container'><table class='table-result'><thead style='background-color: white'><tr><th>value</th><th>value_clean</th><th>ingestion_timestamp</th><th>ingestion_date</th><th>source_file</th><th>record_source</th></tr></thead><tbody><tr><td>\"1,CHN,China,Beijing,Asia,1425887337,1424929781,1393715448,1348191368,1264099069,1153704252,982372466,822534450,9706961,146.8933,1,17.88\"</td><td>\"1,CHN,China,Beijing,Asia,1425887337,1424929781,1393715448,1348191368,1264099069,1153704252,982372466,822534450,9706961,146.8933,1,17.88\"</td><td>2025-09-27T05:05:09.054741Z</td><td>2025-09-27</td><td></td><td>bronze.world_population</td></tr><tr><td>\"10,MEX,Mexico,Mexico City,North America,127504125,125998302,120149897,112532401,97873442,81720428,67705186,50289306,1964375,64.9082,1.0063,1.6\"</td><td>\"10,MEX,Mexico,Mexico City,North America,127504125,125998302,120149897,112532401,97873442,81720428,67705186,50289306,1964375,64.9082,1.0063,1.6\"</td><td>2025-09-27T05:05:09.054741Z</td><td>2025-09-27</td><td></td><td>bronze.world_population</td></tr><tr><td>\"100,TGO,Togo,Lomé,Africa,8848699,8442580,7473229,6571855,5008035,3875947,2838110,2197383,56785,155.8281,1.0236,0.11\"</td><td>\"100,TGO,Togo,Lomé,Africa,8848699,8442580,7473229,6571855,5008035,3875947,2838110,2197383,56785,155.8281,1.0236,0.11\"</td><td>2025-09-27T05:05:09.054741Z</td><td>2025-09-27</td><td></td><td>bronze.world_population</td></tr><tr><td>\"101,CHE,Switzerland,Bern,Europe,8740472,8638613,8281732,7822435,7182059,6711693,6319113,6181227,41284,211.7157,1.0056,0.11\"</td><td>\"101,CHE,Switzerland,Bern,Europe,8740472,8638613,8281732,7822435,7182059,6711693,6319113,6181227,41284,211.7157,1.0056,0.11\"</td><td>2025-09-27T05:05:09.054741Z</td><td>2025-09-27</td><td></td><td>bronze.world_population</td></tr><tr><td>\"102,SLE,Sierra Leone,Freetown,Africa,8605718,8233969,7314773,6436698,4584067,4325388,3367477,2778557,71740,119.957,1.022,0.11\"</td><td>\"102,SLE,Sierra Leone,Freetown,Africa,8605718,8233969,7314773,6436698,4584067,4325388,3367477,2778557,71740,119.957,1.022,0.11\"</td><td>2025-09-27T05:05:09.054741Z</td><td>2025-09-27</td><td></td><td>bronze.world_population</td></tr></tbody></table></div>"
      ]
     },
     "metadata": {
      "application/vnd.databricks.v1+output": {
       "addedWidgets": {},
       "aggData": [],
       "aggError": "",
       "aggOverflow": false,
       "aggSchema": [],
       "aggSeriesLimitReached": false,
       "aggType": "",
       "arguments": {},
       "columnCustomDisplayInfos": {},
       "data": [
        [
         "\"1,CHN,China,Beijing,Asia,1425887337,1424929781,1393715448,1348191368,1264099069,1153704252,982372466,822534450,9706961,146.8933,1,17.88\"",
         "\"1,CHN,China,Beijing,Asia,1425887337,1424929781,1393715448,1348191368,1264099069,1153704252,982372466,822534450,9706961,146.8933,1,17.88\"",
         "2025-09-27T05:05:09.054741Z",
         "2025-09-27",
         "",
         "bronze.world_population"
        ],
        [
         "\"10,MEX,Mexico,Mexico City,North America,127504125,125998302,120149897,112532401,97873442,81720428,67705186,50289306,1964375,64.9082,1.0063,1.6\"",
         "\"10,MEX,Mexico,Mexico City,North America,127504125,125998302,120149897,112532401,97873442,81720428,67705186,50289306,1964375,64.9082,1.0063,1.6\"",
         "2025-09-27T05:05:09.054741Z",
         "2025-09-27",
         "",
         "bronze.world_population"
        ],
        [
         "\"100,TGO,Togo,Lomé,Africa,8848699,8442580,7473229,6571855,5008035,3875947,2838110,2197383,56785,155.8281,1.0236,0.11\"",
         "\"100,TGO,Togo,Lomé,Africa,8848699,8442580,7473229,6571855,5008035,3875947,2838110,2197383,56785,155.8281,1.0236,0.11\"",
         "2025-09-27T05:05:09.054741Z",
         "2025-09-27",
         "",
         "bronze.world_population"
        ],
        [
         "\"101,CHE,Switzerland,Bern,Europe,8740472,8638613,8281732,7822435,7182059,6711693,6319113,6181227,41284,211.7157,1.0056,0.11\"",
         "\"101,CHE,Switzerland,Bern,Europe,8740472,8638613,8281732,7822435,7182059,6711693,6319113,6181227,41284,211.7157,1.0056,0.11\"",
         "2025-09-27T05:05:09.054741Z",
         "2025-09-27",
         "",
         "bronze.world_population"
        ],
        [
         "\"102,SLE,Sierra Leone,Freetown,Africa,8605718,8233969,7314773,6436698,4584067,4325388,3367477,2778557,71740,119.957,1.022,0.11\"",
         "\"102,SLE,Sierra Leone,Freetown,Africa,8605718,8233969,7314773,6436698,4584067,4325388,3367477,2778557,71740,119.957,1.022,0.11\"",
         "2025-09-27T05:05:09.054741Z",
         "2025-09-27",
         "",
         "bronze.world_population"
        ]
       ],
       "datasetInfos": [],
       "dbfsResultPath": null,
       "isJsonSchema": true,
       "metadata": {},
       "overflow": false,
       "plotOptions": {
        "customPlotOptions": {},
        "displayType": "table",
        "pivotAggregation": null,
        "pivotColumns": null,
        "xColumns": null,
        "yColumns": null
       },
       "removedWidgets": [],
       "schema": [
        {
         "metadata": "{}",
         "name": "value",
         "type": "\"string\""
        },
        {
         "metadata": "{}",
         "name": "value_clean",
         "type": "\"string\""
        },
        {
         "metadata": "{}",
         "name": "ingestion_timestamp",
         "type": "\"timestamp\""
        },
        {
         "metadata": "{}",
         "name": "ingestion_date",
         "type": "\"date\""
        },
        {
         "metadata": "{}",
         "name": "source_file",
         "type": "\"string\""
        },
        {
         "metadata": "{}",
         "name": "record_source",
         "type": "\"string\""
        }
       ],
       "type": "table"
      }
     },
     "output_type": "display_data"
    },
    {
     "output_type": "stream",
     "name": "stdout",
     "output_type": "stream",
     "text": [
      "Silver House Price history:\n+-------+-------------------+---------------+--------------------------------+---------+------------------------------------------------------------+---------------------------------------------------------------------------+------------------+--------------------+-----------+-----------------+-------------+--------------------------------------------------------------------------------------------------------------+------------+-----------------------------------+\n|version|timestamp          |userId         |userName                        |operation|operationParameters                                         |job                                                                        |notebook          |clusterId           |readVersion|isolationLevel   |isBlindAppend|operationMetrics                                                                                              |userMetadata|engineInfo                         |\n+-------+-------------------+---------------+--------------------------------+---------+------------------------------------------------------------+---------------------------------------------------------------------------+------------------+--------------------+-----------+-----------------+-------------+--------------------------------------------------------------------------------------------------------------+------------+-----------------------------------+\n|10     |2025-09-30 12:19:01|141145384714104|user8@sscloudtse.onmicrosoft.com|WRITE    |{mode -> Overwrite, statsOnLoad -> false, partitionBy -> []}|NULL                                                                       |{3444918744357184}|0927-033826-sxoswuq4|9          |WriteSerializable|false        |{numFiles -> 1, numRemovedFiles -> 1, numRemovedBytes -> 51416, numOutputRows -> 545, numOutputBytes -> 51398}|NULL        |Databricks-Runtime/16.4.x-scala2.13|\n|9      |2025-09-29 16:50:13|141145384714104|user8@sscloudtse.onmicrosoft.com|WRITE    |{mode -> Overwrite, statsOnLoad -> false, partitionBy -> []}|{161682619776592, Untitled, NULL, 85089056669876, 141145384714104, manual} |{3444918744357184}|0927-033826-sxoswuq4|8          |WriteSerializable|false        |{numFiles -> 1, numRemovedFiles -> 1, numRemovedBytes -> 51415, numOutputRows -> 545, numOutputBytes -> 51416}|NULL        |Databricks-Runtime/16.4.x-scala2.13|\n|8      |2025-09-29 16:47:06|141145384714104|user8@sscloudtse.onmicrosoft.com|WRITE    |{mode -> Overwrite, statsOnLoad -> false, partitionBy -> []}|{462205371342754, Untitled, NULL, 78474062177349, 141145384714104, manual} |{3444918744357184}|0927-033826-sxoswuq4|7          |WriteSerializable|false        |{numFiles -> 1, numRemovedFiles -> 1, numRemovedBytes -> 51416, numOutputRows -> 545, numOutputBytes -> 51415}|NULL        |Databricks-Runtime/16.4.x-scala2.13|\n|7      |2025-09-29 16:37:17|141145384714104|user8@sscloudtse.onmicrosoft.com|WRITE    |{mode -> Overwrite, statsOnLoad -> false, partitionBy -> []}|{284236905774881, Untitled, NULL, 235062305668901, 141145384714104, manual}|{3803425083710993}|0927-033826-sxoswuq4|6          |WriteSerializable|false        |{numFiles -> 1, numRemovedFiles -> 1, numRemovedBytes -> 51415, numOutputRows -> 545, numOutputBytes -> 51416}|NULL        |Databricks-Runtime/16.4.x-scala2.13|\n|6      |2025-09-29 13:55:09|141145384714104|user8@sscloudtse.onmicrosoft.com|WRITE    |{mode -> Overwrite, statsOnLoad -> false, partitionBy -> []}|{52960475281797, Untitled, NULL, 658182274443237, 141145384714104, manual} |{3803425083710993}|0927-033826-sxoswuq4|5          |WriteSerializable|false        |{numFiles -> 1, numRemovedFiles -> 1, numRemovedBytes -> 51416, numOutputRows -> 545, numOutputBytes -> 51415}|NULL        |Databricks-Runtime/16.4.x-scala2.13|\n|5      |2025-09-29 13:45:12|141145384714104|user8@sscloudtse.onmicrosoft.com|WRITE    |{mode -> Overwrite, statsOnLoad -> false, partitionBy -> []}|{413995218813429, Untitled, NULL, 368336065696757, 141145384714104, manual}|{3803425083710993}|0927-033826-sxoswuq4|4          |WriteSerializable|false        |{numFiles -> 1, numRemovedFiles -> 1, numRemovedBytes -> 51416, numOutputRows -> 545, numOutputBytes -> 51416}|NULL        |Databricks-Runtime/16.4.x-scala2.13|\n|4      |2025-09-29 13:35:08|141145384714104|user8@sscloudtse.onmicrosoft.com|WRITE    |{mode -> Overwrite, statsOnLoad -> false, partitionBy -> []}|{462673699246338, Untitled, NULL, 924231240836135, 141145384714104, manual}|{3803425083710993}|0927-033826-sxoswuq4|3          |WriteSerializable|false        |{numFiles -> 1, numRemovedFiles -> 1, numRemovedBytes -> 51416, numOutputRows -> 545, numOutputBytes -> 51416}|NULL        |Databricks-Runtime/16.4.x-scala2.13|\n|3      |2025-09-29 13:30:04|141145384714104|user8@sscloudtse.onmicrosoft.com|WRITE    |{mode -> Overwrite, statsOnLoad -> false, partitionBy -> []}|{816626040031848, Untitled, NULL, 456088897705896, 141145384714104, manual}|{3803425083710993}|0927-033826-sxoswuq4|2          |WriteSerializable|false        |{numFiles -> 1, numRemovedFiles -> 1, numRemovedBytes -> 51416, numOutputRows -> 545, numOutputBytes -> 51416}|NULL        |Databricks-Runtime/16.4.x-scala2.13|\n|2      |2025-09-29 13:29:24|141145384714104|user8@sscloudtse.onmicrosoft.com|WRITE    |{mode -> Overwrite, statsOnLoad -> false, partitionBy -> []}|{398425513365645, Untitled, NULL, 255843491578381, 141145384714104, manual}|{3803425083710993}|0927-033826-sxoswuq4|1          |WriteSerializable|false        |{numFiles -> 1, numRemovedFiles -> 1, numRemovedBytes -> 51399, numOutputRows -> 545, numOutputBytes -> 51416}|NULL        |Databricks-Runtime/16.4.x-scala2.13|\n|1      |2025-09-29 13:12:52|141145384714104|user8@sscloudtse.onmicrosoft.com|WRITE    |{mode -> Overwrite, statsOnLoad -> false, partitionBy -> []}|NULL                                                                       |{3803425083710993}|0927-033826-sxoswuq4|0          |WriteSerializable|false        |{numFiles -> 1, numRemovedFiles -> 1, numRemovedBytes -> 51399, numOutputRows -> 545, numOutputBytes -> 51399}|NULL        |Databricks-Runtime/16.4.x-scala2.13|\n|0      |2025-09-27 05:05:07|141145384714104|user8@sscloudtse.onmicrosoft.com|WRITE    |{mode -> Overwrite, statsOnLoad -> false, partitionBy -> []}|NULL                                                                       |{3444918744357184}|0927-033826-sxoswuq4|NULL       |WriteSerializable|false        |{numFiles -> 1, numRemovedFiles -> 0, numRemovedBytes -> 0, numOutputRows -> 545, numOutputBytes -> 51399}    |NULL        |Databricks-Runtime/16.4.x-scala2.13|\n+-------+-------------------+---------------+--------------------------------+---------+------------------------------------------------------------+---------------------------------------------------------------------------+------------------+--------------------+-----------+-----------------+-------------+--------------------------------------------------------------------------------------------------------------+------------+-----------------------------------+\n\nSilver Sales Orders history:\n+-------+-------------------+---------------+--------------------------------+---------+------------------------------------------------------------+---------------------------------------------------------------------------+------------------+--------------------+-----------+-----------------+-------------+-----------------------------------------------------------------------------------------------------------+------------+-----------------------------------+\n|version|timestamp          |userId         |userName                        |operation|operationParameters                                         |job                                                                        |notebook          |clusterId           |readVersion|isolationLevel   |isBlindAppend|operationMetrics                                                                                           |userMetadata|engineInfo                         |\n+-------+-------------------+---------------+--------------------------------+---------+------------------------------------------------------------+---------------------------------------------------------------------------+------------------+--------------------+-----------+-----------------+-------------+-----------------------------------------------------------------------------------------------------------+------------+-----------------------------------+\n|10     |2025-09-30 12:19:06|141145384714104|user8@sscloudtse.onmicrosoft.com|WRITE    |{mode -> Overwrite, statsOnLoad -> false, partitionBy -> []}|NULL                                                                       |{3444918744357184}|0927-033826-sxoswuq4|9          |WriteSerializable|false        |{numFiles -> 1, numRemovedFiles -> 1, numRemovedBytes -> 5007, numOutputRows -> 51, numOutputBytes -> 4989}|NULL        |Databricks-Runtime/16.4.x-scala2.13|\n|9      |2025-09-29 16:50:13|141145384714104|user8@sscloudtse.onmicrosoft.com|WRITE    |{mode -> Overwrite, statsOnLoad -> false, partitionBy -> []}|{161682619776592, Untitled, NULL, 85089056669876, 141145384714104, manual} |{3444918744357184}|0927-033826-sxoswuq4|8          |WriteSerializable|false        |{numFiles -> 1, numRemovedFiles -> 1, numRemovedBytes -> 5006, numOutputRows -> 51, numOutputBytes -> 5007}|NULL        |Databricks-Runtime/16.4.x-scala2.13|\n|8      |2025-09-29 16:47:07|141145384714104|user8@sscloudtse.onmicrosoft.com|WRITE    |{mode -> Overwrite, statsOnLoad -> false, partitionBy -> []}|{462205371342754, Untitled, NULL, 78474062177349, 141145384714104, manual} |{3444918744357184}|0927-033826-sxoswuq4|7          |WriteSerializable|false        |{numFiles -> 1, numRemovedFiles -> 1, numRemovedBytes -> 5007, numOutputRows -> 51, numOutputBytes -> 5006}|NULL        |Databricks-Runtime/16.4.x-scala2.13|\n|7      |2025-09-29 16:37:19|141145384714104|user8@sscloudtse.onmicrosoft.com|WRITE    |{mode -> Overwrite, statsOnLoad -> false, partitionBy -> []}|{284236905774881, Untitled, NULL, 235062305668901, 141145384714104, manual}|{3803425083710993}|0927-033826-sxoswuq4|6          |WriteSerializable|false        |{numFiles -> 1, numRemovedFiles -> 1, numRemovedBytes -> 5006, numOutputRows -> 51, numOutputBytes -> 5007}|NULL        |Databricks-Runtime/16.4.x-scala2.13|\n|6      |2025-09-29 13:55:11|141145384714104|user8@sscloudtse.onmicrosoft.com|WRITE    |{mode -> Overwrite, statsOnLoad -> false, partitionBy -> []}|{52960475281797, Untitled, NULL, 658182274443237, 141145384714104, manual} |{3803425083710993}|0927-033826-sxoswuq4|5          |WriteSerializable|false        |{numFiles -> 1, numRemovedFiles -> 1, numRemovedBytes -> 5007, numOutputRows -> 51, numOutputBytes -> 5006}|NULL        |Databricks-Runtime/16.4.x-scala2.13|\n|5      |2025-09-29 13:45:14|141145384714104|user8@sscloudtse.onmicrosoft.com|WRITE    |{mode -> Overwrite, statsOnLoad -> false, partitionBy -> []}|{413995218813429, Untitled, NULL, 368336065696757, 141145384714104, manual}|{3803425083710993}|0927-033826-sxoswuq4|4          |WriteSerializable|false        |{numFiles -> 1, numRemovedFiles -> 1, numRemovedBytes -> 5007, numOutputRows -> 51, numOutputBytes -> 5007}|NULL        |Databricks-Runtime/16.4.x-scala2.13|\n|4      |2025-09-29 13:35:10|141145384714104|user8@sscloudtse.onmicrosoft.com|WRITE    |{mode -> Overwrite, statsOnLoad -> false, partitionBy -> []}|{462673699246338, Untitled, NULL, 924231240836135, 141145384714104, manual}|{3803425083710993}|0927-033826-sxoswuq4|3          |WriteSerializable|false        |{numFiles -> 1, numRemovedFiles -> 1, numRemovedBytes -> 5007, numOutputRows -> 51, numOutputBytes -> 5007}|NULL        |Databricks-Runtime/16.4.x-scala2.13|\n|3      |2025-09-29 13:30:06|141145384714104|user8@sscloudtse.onmicrosoft.com|WRITE    |{mode -> Overwrite, statsOnLoad -> false, partitionBy -> []}|{816626040031848, Untitled, NULL, 456088897705896, 141145384714104, manual}|{3803425083710993}|0927-033826-sxoswuq4|2          |WriteSerializable|false        |{numFiles -> 1, numRemovedFiles -> 1, numRemovedBytes -> 5007, numOutputRows -> 51, numOutputBytes -> 5007}|NULL        |Databricks-Runtime/16.4.x-scala2.13|\n|2      |2025-09-29 13:29:26|141145384714104|user8@sscloudtse.onmicrosoft.com|WRITE    |{mode -> Overwrite, statsOnLoad -> false, partitionBy -> []}|{398425513365645, Untitled, NULL, 255843491578381, 141145384714104, manual}|{3803425083710993}|0927-033826-sxoswuq4|1          |WriteSerializable|false        |{numFiles -> 1, numRemovedFiles -> 1, numRemovedBytes -> 4990, numOutputRows -> 51, numOutputBytes -> 5007}|NULL        |Databricks-Runtime/16.4.x-scala2.13|\n|1      |2025-09-29 13:12:54|141145384714104|user8@sscloudtse.onmicrosoft.com|WRITE    |{mode -> Overwrite, statsOnLoad -> false, partitionBy -> []}|NULL                                                                       |{3803425083710993}|0927-033826-sxoswuq4|0          |WriteSerializable|false        |{numFiles -> 1, numRemovedFiles -> 1, numRemovedBytes -> 4990, numOutputRows -> 51, numOutputBytes -> 4990}|NULL        |Databricks-Runtime/16.4.x-scala2.13|\n|0      |2025-09-27 05:05:08|141145384714104|user8@sscloudtse.onmicrosoft.com|WRITE    |{mode -> Overwrite, statsOnLoad -> false, partitionBy -> []}|NULL                                                                       |{3444918744357184}|0927-033826-sxoswuq4|NULL       |WriteSerializable|false        |{numFiles -> 1, numRemovedFiles -> 0, numRemovedBytes -> 0, numOutputRows -> 51, numOutputBytes -> 4990}   |NULL        |Databricks-Runtime/16.4.x-scala2.13|\n+-------+-------------------+---------------+--------------------------------+---------+------------------------------------------------------------+---------------------------------------------------------------------------+------------------+--------------------+-----------+-----------------+-------------+-----------------------------------------------------------------------------------------------------------+------------+-----------------------------------+\n\nSilver World Population history:\n+-------+-------------------+---------------+--------------------------------+---------+------------------------------------------------------------+---------------------------------------------------------------------------+------------------+--------------------+-----------+-----------------+-------------+--------------------------------------------------------------------------------------------------------------+------------+-----------------------------------+\n|version|timestamp          |userId         |userName                        |operation|operationParameters                                         |job                                                                        |notebook          |clusterId           |readVersion|isolationLevel   |isBlindAppend|operationMetrics                                                                                              |userMetadata|engineInfo                         |\n+-------+-------------------+---------------+--------------------------------+---------+------------------------------------------------------------+---------------------------------------------------------------------------+------------------+--------------------+-----------+-----------------+-------------+--------------------------------------------------------------------------------------------------------------+------------+-----------------------------------+\n|10     |2025-09-30 12:19:09|141145384714104|user8@sscloudtse.onmicrosoft.com|WRITE    |{mode -> Overwrite, statsOnLoad -> false, partitionBy -> []}|NULL                                                                       |{3444918744357184}|0927-033826-sxoswuq4|9          |WriteSerializable|false        |{numFiles -> 1, numRemovedFiles -> 1, numRemovedBytes -> 52642, numOutputRows -> 235, numOutputBytes -> 52624}|NULL        |Databricks-Runtime/16.4.x-scala2.13|\n|9      |2025-09-29 16:50:14|141145384714104|user8@sscloudtse.onmicrosoft.com|WRITE    |{mode -> Overwrite, statsOnLoad -> false, partitionBy -> []}|{161682619776592, Untitled, NULL, 85089056669876, 141145384714104, manual} |{3444918744357184}|0927-033826-sxoswuq4|8          |WriteSerializable|false        |{numFiles -> 1, numRemovedFiles -> 1, numRemovedBytes -> 52641, numOutputRows -> 235, numOutputBytes -> 52642}|NULL        |Databricks-Runtime/16.4.x-scala2.13|\n|8      |2025-09-29 16:47:09|141145384714104|user8@sscloudtse.onmicrosoft.com|WRITE    |{mode -> Overwrite, statsOnLoad -> false, partitionBy -> []}|{462205371342754, Untitled, NULL, 78474062177349, 141145384714104, manual} |{3444918744357184}|0927-033826-sxoswuq4|7          |WriteSerializable|false        |{numFiles -> 1, numRemovedFiles -> 1, numRemovedBytes -> 52642, numOutputRows -> 235, numOutputBytes -> 52641}|NULL        |Databricks-Runtime/16.4.x-scala2.13|\n|7      |2025-09-29 16:37:20|141145384714104|user8@sscloudtse.onmicrosoft.com|WRITE    |{mode -> Overwrite, statsOnLoad -> false, partitionBy -> []}|{284236905774881, Untitled, NULL, 235062305668901, 141145384714104, manual}|{3803425083710993}|0927-033826-sxoswuq4|6          |WriteSerializable|false        |{numFiles -> 1, numRemovedFiles -> 1, numRemovedBytes -> 52640, numOutputRows -> 235, numOutputBytes -> 52642}|NULL        |Databricks-Runtime/16.4.x-scala2.13|\n|6      |2025-09-29 13:55:12|141145384714104|user8@sscloudtse.onmicrosoft.com|WRITE    |{mode -> Overwrite, statsOnLoad -> false, partitionBy -> []}|{52960475281797, Untitled, NULL, 658182274443237, 141145384714104, manual} |{3803425083710993}|0927-033826-sxoswuq4|5          |WriteSerializable|false        |{numFiles -> 1, numRemovedFiles -> 1, numRemovedBytes -> 52642, numOutputRows -> 235, numOutputBytes -> 52640}|NULL        |Databricks-Runtime/16.4.x-scala2.13|\n|5      |2025-09-29 13:45:16|141145384714104|user8@sscloudtse.onmicrosoft.com|WRITE    |{mode -> Overwrite, statsOnLoad -> false, partitionBy -> []}|{413995218813429, Untitled, NULL, 368336065696757, 141145384714104, manual}|{3803425083710993}|0927-033826-sxoswuq4|4          |WriteSerializable|false        |{numFiles -> 1, numRemovedFiles -> 1, numRemovedBytes -> 52642, numOutputRows -> 235, numOutputBytes -> 52642}|NULL        |Databricks-Runtime/16.4.x-scala2.13|\n|4      |2025-09-29 13:35:11|141145384714104|user8@sscloudtse.onmicrosoft.com|WRITE    |{mode -> Overwrite, statsOnLoad -> false, partitionBy -> []}|{462673699246338, Untitled, NULL, 924231240836135, 141145384714104, manual}|{3803425083710993}|0927-033826-sxoswuq4|3          |WriteSerializable|false        |{numFiles -> 1, numRemovedFiles -> 1, numRemovedBytes -> 52642, numOutputRows -> 235, numOutputBytes -> 52642}|NULL        |Databricks-Runtime/16.4.x-scala2.13|\n|3      |2025-09-29 13:30:08|141145384714104|user8@sscloudtse.onmicrosoft.com|WRITE    |{mode -> Overwrite, statsOnLoad -> false, partitionBy -> []}|{816626040031848, Untitled, NULL, 456088897705896, 141145384714104, manual}|{3803425083710993}|0927-033826-sxoswuq4|2          |WriteSerializable|false        |{numFiles -> 1, numRemovedFiles -> 1, numRemovedBytes -> 52642, numOutputRows -> 235, numOutputBytes -> 52642}|NULL        |Databricks-Runtime/16.4.x-scala2.13|\n|2      |2025-09-29 13:29:28|141145384714104|user8@sscloudtse.onmicrosoft.com|WRITE    |{mode -> Overwrite, statsOnLoad -> false, partitionBy -> []}|{398425513365645, Untitled, NULL, 255843491578381, 141145384714104, manual}|{3803425083710993}|0927-033826-sxoswuq4|1          |WriteSerializable|false        |{numFiles -> 1, numRemovedFiles -> 1, numRemovedBytes -> 52625, numOutputRows -> 235, numOutputBytes -> 52642}|NULL        |Databricks-Runtime/16.4.x-scala2.13|\n|1      |2025-09-29 13:12:55|141145384714104|user8@sscloudtse.onmicrosoft.com|WRITE    |{mode -> Overwrite, statsOnLoad -> false, partitionBy -> []}|NULL                                                                       |{3803425083710993}|0927-033826-sxoswuq4|0          |WriteSerializable|false        |{numFiles -> 1, numRemovedFiles -> 1, numRemovedBytes -> 52625, numOutputRows -> 235, numOutputBytes -> 52625}|NULL        |Databricks-Runtime/16.4.x-scala2.13|\n|0      |2025-09-27 05:05:10|141145384714104|user8@sscloudtse.onmicrosoft.com|WRITE    |{mode -> Overwrite, statsOnLoad -> false, partitionBy -> []}|NULL                                                                       |{3444918744357184}|0927-033826-sxoswuq4|NULL       |WriteSerializable|false        |{numFiles -> 1, numRemovedFiles -> 0, numRemovedBytes -> 0, numOutputRows -> 235, numOutputBytes -> 52625}    |NULL        |Databricks-Runtime/16.4.x-scala2.13|\n+-------+-------------------+---------------+--------------------------------+---------+------------------------------------------------------------+---------------------------------------------------------------------------+------------------+--------------------+-----------+-----------------+-------------+--------------------------------------------------------------------------------------------------------------+------------+-----------------------------------+\n\n"
     ]
    },
    {
     "output_type": "display_data",
     "data": {
      "text/html": [
       "<style scoped>\n",
       "  .table-result-container {\n",
       "    max-height: 300px;\n",
       "    overflow: auto;\n",
       "  }\n",
       "  table, th, td {\n",
       "    border: 1px solid black;\n",
       "    border-collapse: collapse;\n",
       "  }\n",
       "  th, td {\n",
       "    padding: 5px;\n",
       "  }\n",
       "  th {\n",
       "    text-align: left;\n",
       "  }\n",
       "</style><div class='table-result-container'><table class='table-result'><thead style='background-color: white'><tr><th>value</th><th>airconditioning</th><th>area</th><th>basement</th><th>bathrooms</th><th>bedrooms</th><th>furnishingstatus</th><th>guestroom</th><th>hotwaterheating</th><th>mainroad</th><th>parking</th><th>prefarea</th><th>price</th><th>stories</th><th>value_clean</th><th>json_map</th><th>ingestion_timestamp</th><th>ingestion_date</th><th>source_file</th><th>record_source</th><th>is_json</th></tr></thead><tbody><tr><td>{\"price\":\"10150000\",\"area\":\"16200\",\"bedrooms\":\"5\",\"bathrooms\":\"3\",\"stories\":\"2\",\"mainroad\":\"yes\",\"guestroom\":\"no\",\"basement\":\"no\",\"hotwaterheating\":\"no\",\"airconditioning\":\"no\",\"parking\":\"0\",\"prefarea\":\"no\",\"furnishingstatus\":\"unfurnished\"}</td><td>null</td><td>null</td><td>null</td><td>null</td><td>null</td><td>null</td><td>null</td><td>null</td><td>null</td><td>null</td><td>null</td><td>null</td><td>null</td><td>{\"price\":\"10150000\",\"area\":\"16200\",\"bedrooms\":\"5\",\"bathrooms\":\"3\",\"stories\":\"2\",\"mainroad\":\"yes\",\"guestroom\":\"no\",\"basement\":\"no\",\"hotwaterheating\":\"no\",\"airconditioning\":\"no\",\"parking\":\"0\",\"prefarea\":\"no\",\"furnishingstatus\":\"unfurnished\"}</td><td>Map(bedrooms -> 5, area -> 16200, stories -> 2, price -> 10150000, furnishingstatus -> unfurnished, mainroad -> yes, airconditioning -> no, guestroom -> no, bathrooms -> 3, parking -> 0, basement -> no, hotwaterheating -> no, prefarea -> no)</td><td>2025-09-30T12:18:54.213642Z</td><td>2025-09-30</td><td></td><td>bronze.house_price</td><td>true</td></tr><tr><td>{\"price\":\"10150000\",\"area\":\"8580\",\"bedrooms\":\"4\",\"bathrooms\":\"3\",\"stories\":\"4\",\"mainroad\":\"yes\",\"guestroom\":\"no\",\"basement\":\"no\",\"hotwaterheating\":\"no\",\"airconditioning\":\"yes\",\"parking\":\"2\",\"prefarea\":\"yes\",\"furnishingstatus\":\"semi-furnished\"}</td><td>null</td><td>null</td><td>null</td><td>null</td><td>null</td><td>null</td><td>null</td><td>null</td><td>null</td><td>null</td><td>null</td><td>null</td><td>null</td><td>{\"price\":\"10150000\",\"area\":\"8580\",\"bedrooms\":\"4\",\"bathrooms\":\"3\",\"stories\":\"4\",\"mainroad\":\"yes\",\"guestroom\":\"no\",\"basement\":\"no\",\"hotwaterheating\":\"no\",\"airconditioning\":\"yes\",\"parking\":\"2\",\"prefarea\":\"yes\",\"furnishingstatus\":\"semi-furnished\"}</td><td>Map(bedrooms -> 4, area -> 8580, stories -> 4, price -> 10150000, furnishingstatus -> semi-furnished, mainroad -> yes, airconditioning -> yes, guestroom -> no, bathrooms -> 3, parking -> 2, basement -> no, hotwaterheating -> no, prefarea -> yes)</td><td>2025-09-30T12:18:54.213642Z</td><td>2025-09-30</td><td></td><td>bronze.house_price</td><td>true</td></tr><tr><td>{\"price\":\"10850000\",\"area\":\"7500\",\"bedrooms\":\"3\",\"bathrooms\":\"3\",\"stories\":\"1\",\"mainroad\":\"yes\",\"guestroom\":\"no\",\"basement\":\"yes\",\"hotwaterheating\":\"no\",\"airconditioning\":\"yes\",\"parking\":\"2\",\"prefarea\":\"yes\",\"furnishingstatus\":\"semi-furnished\"}</td><td>null</td><td>null</td><td>null</td><td>null</td><td>null</td><td>null</td><td>null</td><td>null</td><td>null</td><td>null</td><td>null</td><td>null</td><td>null</td><td>{\"price\":\"10850000\",\"area\":\"7500\",\"bedrooms\":\"3\",\"bathrooms\":\"3\",\"stories\":\"1\",\"mainroad\":\"yes\",\"guestroom\":\"no\",\"basement\":\"yes\",\"hotwaterheating\":\"no\",\"airconditioning\":\"yes\",\"parking\":\"2\",\"prefarea\":\"yes\",\"furnishingstatus\":\"semi-furnished\"}</td><td>Map(bedrooms -> 3, area -> 7500, stories -> 1, price -> 10850000, furnishingstatus -> semi-furnished, mainroad -> yes, airconditioning -> yes, guestroom -> no, bathrooms -> 3, parking -> 2, basement -> yes, hotwaterheating -> no, prefarea -> yes)</td><td>2025-09-30T12:18:54.213642Z</td><td>2025-09-30</td><td></td><td>bronze.house_price</td><td>true</td></tr><tr><td>{\"price\":\"11410000\",\"area\":\"7420\",\"bedrooms\":\"4\",\"bathrooms\":\"1\",\"stories\":\"2\",\"mainroad\":\"yes\",\"guestroom\":\"yes\",\"basement\":\"yes\",\"hotwaterheating\":\"no\",\"airconditioning\":\"yes\",\"parking\":\"2\",\"prefarea\":\"no\",\"furnishingstatus\":\"furnished\"}</td><td>null</td><td>null</td><td>null</td><td>null</td><td>null</td><td>null</td><td>null</td><td>null</td><td>null</td><td>null</td><td>null</td><td>null</td><td>null</td><td>{\"price\":\"11410000\",\"area\":\"7420\",\"bedrooms\":\"4\",\"bathrooms\":\"1\",\"stories\":\"2\",\"mainroad\":\"yes\",\"guestroom\":\"yes\",\"basement\":\"yes\",\"hotwaterheating\":\"no\",\"airconditioning\":\"yes\",\"parking\":\"2\",\"prefarea\":\"no\",\"furnishingstatus\":\"furnished\"}</td><td>Map(bedrooms -> 4, area -> 7420, stories -> 2, price -> 11410000, furnishingstatus -> furnished, mainroad -> yes, airconditioning -> yes, guestroom -> yes, bathrooms -> 1, parking -> 2, basement -> yes, hotwaterheating -> no, prefarea -> no)</td><td>2025-09-30T12:18:54.213642Z</td><td>2025-09-30</td><td></td><td>bronze.house_price</td><td>true</td></tr><tr><td>{\"price\":\"12215000\",\"area\":\"7500\",\"bedrooms\":\"4\",\"bathrooms\":\"2\",\"stories\":\"2\",\"mainroad\":\"yes\",\"guestroom\":\"no\",\"basement\":\"yes\",\"hotwaterheating\":\"no\",\"airconditioning\":\"yes\",\"parking\":\"3\",\"prefarea\":\"yes\",\"furnishingstatus\":\"furnished\"}</td><td>null</td><td>null</td><td>null</td><td>null</td><td>null</td><td>null</td><td>null</td><td>null</td><td>null</td><td>null</td><td>null</td><td>null</td><td>null</td><td>{\"price\":\"12215000\",\"area\":\"7500\",\"bedrooms\":\"4\",\"bathrooms\":\"2\",\"stories\":\"2\",\"mainroad\":\"yes\",\"guestroom\":\"no\",\"basement\":\"yes\",\"hotwaterheating\":\"no\",\"airconditioning\":\"yes\",\"parking\":\"3\",\"prefarea\":\"yes\",\"furnishingstatus\":\"furnished\"}</td><td>Map(bedrooms -> 4, area -> 7500, stories -> 2, price -> 12215000, furnishingstatus -> furnished, mainroad -> yes, airconditioning -> yes, guestroom -> no, bathrooms -> 2, parking -> 3, basement -> yes, hotwaterheating -> no, prefarea -> yes)</td><td>2025-09-30T12:18:54.213642Z</td><td>2025-09-30</td><td></td><td>bronze.house_price</td><td>true</td></tr></tbody></table></div>"
      ]
     },
     "metadata": {
      "application/vnd.databricks.v1+output": {
       "addedWidgets": {},
       "aggData": [],
       "aggError": "",
       "aggOverflow": false,
       "aggSchema": [],
       "aggSeriesLimitReached": false,
       "aggType": "",
       "arguments": {},
       "columnCustomDisplayInfos": {},
       "data": [
        [
         "{\"price\":\"10150000\",\"area\":\"16200\",\"bedrooms\":\"5\",\"bathrooms\":\"3\",\"stories\":\"2\",\"mainroad\":\"yes\",\"guestroom\":\"no\",\"basement\":\"no\",\"hotwaterheating\":\"no\",\"airconditioning\":\"no\",\"parking\":\"0\",\"prefarea\":\"no\",\"furnishingstatus\":\"unfurnished\"}",
         null,
         null,
         null,
         null,
         null,
         null,
         null,
         null,
         null,
         null,
         null,
         null,
         null,
         "{\"price\":\"10150000\",\"area\":\"16200\",\"bedrooms\":\"5\",\"bathrooms\":\"3\",\"stories\":\"2\",\"mainroad\":\"yes\",\"guestroom\":\"no\",\"basement\":\"no\",\"hotwaterheating\":\"no\",\"airconditioning\":\"no\",\"parking\":\"0\",\"prefarea\":\"no\",\"furnishingstatus\":\"unfurnished\"}",
         {
          "airconditioning": "no",
          "area": "16200",
          "basement": "no",
          "bathrooms": "3",
          "bedrooms": "5",
          "furnishingstatus": "unfurnished",
          "guestroom": "no",
          "hotwaterheating": "no",
          "mainroad": "yes",
          "parking": "0",
          "prefarea": "no",
          "price": "10150000",
          "stories": "2"
         },
         "2025-09-30T12:18:54.213642Z",
         "2025-09-30",
         "",
         "bronze.house_price",
         true
        ],
        [
         "{\"price\":\"10150000\",\"area\":\"8580\",\"bedrooms\":\"4\",\"bathrooms\":\"3\",\"stories\":\"4\",\"mainroad\":\"yes\",\"guestroom\":\"no\",\"basement\":\"no\",\"hotwaterheating\":\"no\",\"airconditioning\":\"yes\",\"parking\":\"2\",\"prefarea\":\"yes\",\"furnishingstatus\":\"semi-furnished\"}",
         null,
         null,
         null,
         null,
         null,
         null,
         null,
         null,
         null,
         null,
         null,
         null,
         null,
         "{\"price\":\"10150000\",\"area\":\"8580\",\"bedrooms\":\"4\",\"bathrooms\":\"3\",\"stories\":\"4\",\"mainroad\":\"yes\",\"guestroom\":\"no\",\"basement\":\"no\",\"hotwaterheating\":\"no\",\"airconditioning\":\"yes\",\"parking\":\"2\",\"prefarea\":\"yes\",\"furnishingstatus\":\"semi-furnished\"}",
         {
          "airconditioning": "yes",
          "area": "8580",
          "basement": "no",
          "bathrooms": "3",
          "bedrooms": "4",
          "furnishingstatus": "semi-furnished",
          "guestroom": "no",
          "hotwaterheating": "no",
          "mainroad": "yes",
          "parking": "2",
          "prefarea": "yes",
          "price": "10150000",
          "stories": "4"
         },
         "2025-09-30T12:18:54.213642Z",
         "2025-09-30",
         "",
         "bronze.house_price",
         true
        ],
        [
         "{\"price\":\"10850000\",\"area\":\"7500\",\"bedrooms\":\"3\",\"bathrooms\":\"3\",\"stories\":\"1\",\"mainroad\":\"yes\",\"guestroom\":\"no\",\"basement\":\"yes\",\"hotwaterheating\":\"no\",\"airconditioning\":\"yes\",\"parking\":\"2\",\"prefarea\":\"yes\",\"furnishingstatus\":\"semi-furnished\"}",
         null,
         null,
         null,
         null,
         null,
         null,
         null,
         null,
         null,
         null,
         null,
         null,
         null,
         "{\"price\":\"10850000\",\"area\":\"7500\",\"bedrooms\":\"3\",\"bathrooms\":\"3\",\"stories\":\"1\",\"mainroad\":\"yes\",\"guestroom\":\"no\",\"basement\":\"yes\",\"hotwaterheating\":\"no\",\"airconditioning\":\"yes\",\"parking\":\"2\",\"prefarea\":\"yes\",\"furnishingstatus\":\"semi-furnished\"}",
         {
          "airconditioning": "yes",
          "area": "7500",
          "basement": "yes",
          "bathrooms": "3",
          "bedrooms": "3",
          "furnishingstatus": "semi-furnished",
          "guestroom": "no",
          "hotwaterheating": "no",
          "mainroad": "yes",
          "parking": "2",
          "prefarea": "yes",
          "price": "10850000",
          "stories": "1"
         },
         "2025-09-30T12:18:54.213642Z",
         "2025-09-30",
         "",
         "bronze.house_price",
         true
        ],
        [
         "{\"price\":\"11410000\",\"area\":\"7420\",\"bedrooms\":\"4\",\"bathrooms\":\"1\",\"stories\":\"2\",\"mainroad\":\"yes\",\"guestroom\":\"yes\",\"basement\":\"yes\",\"hotwaterheating\":\"no\",\"airconditioning\":\"yes\",\"parking\":\"2\",\"prefarea\":\"no\",\"furnishingstatus\":\"furnished\"}",
         null,
         null,
         null,
         null,
         null,
         null,
         null,
         null,
         null,
         null,
         null,
         null,
         null,
         "{\"price\":\"11410000\",\"area\":\"7420\",\"bedrooms\":\"4\",\"bathrooms\":\"1\",\"stories\":\"2\",\"mainroad\":\"yes\",\"guestroom\":\"yes\",\"basement\":\"yes\",\"hotwaterheating\":\"no\",\"airconditioning\":\"yes\",\"parking\":\"2\",\"prefarea\":\"no\",\"furnishingstatus\":\"furnished\"}",
         {
          "airconditioning": "yes",
          "area": "7420",
          "basement": "yes",
          "bathrooms": "1",
          "bedrooms": "4",
          "furnishingstatus": "furnished",
          "guestroom": "yes",
          "hotwaterheating": "no",
          "mainroad": "yes",
          "parking": "2",
          "prefarea": "no",
          "price": "11410000",
          "stories": "2"
         },
         "2025-09-30T12:18:54.213642Z",
         "2025-09-30",
         "",
         "bronze.house_price",
         true
        ],
        [
         "{\"price\":\"12215000\",\"area\":\"7500\",\"bedrooms\":\"4\",\"bathrooms\":\"2\",\"stories\":\"2\",\"mainroad\":\"yes\",\"guestroom\":\"no\",\"basement\":\"yes\",\"hotwaterheating\":\"no\",\"airconditioning\":\"yes\",\"parking\":\"3\",\"prefarea\":\"yes\",\"furnishingstatus\":\"furnished\"}",
         null,
         null,
         null,
         null,
         null,
         null,
         null,
         null,
         null,
         null,
         null,
         null,
         null,
         "{\"price\":\"12215000\",\"area\":\"7500\",\"bedrooms\":\"4\",\"bathrooms\":\"2\",\"stories\":\"2\",\"mainroad\":\"yes\",\"guestroom\":\"no\",\"basement\":\"yes\",\"hotwaterheating\":\"no\",\"airconditioning\":\"yes\",\"parking\":\"3\",\"prefarea\":\"yes\",\"furnishingstatus\":\"furnished\"}",
         {
          "airconditioning": "yes",
          "area": "7500",
          "basement": "yes",
          "bathrooms": "2",
          "bedrooms": "4",
          "furnishingstatus": "furnished",
          "guestroom": "no",
          "hotwaterheating": "no",
          "mainroad": "yes",
          "parking": "3",
          "prefarea": "yes",
          "price": "12215000",
          "stories": "2"
         },
         "2025-09-30T12:18:54.213642Z",
         "2025-09-30",
         "",
         "bronze.house_price",
         true
        ]
       ],
       "datasetInfos": [],
       "dbfsResultPath": null,
       "isJsonSchema": true,
       "metadata": {},
       "overflow": false,
       "plotOptions": {
        "customPlotOptions": {},
        "displayType": "table",
        "pivotAggregation": null,
        "pivotColumns": null,
        "xColumns": null,
        "yColumns": null
       },
       "removedWidgets": [],
       "schema": [
        {
         "metadata": "{}",
         "name": "value",
         "type": "\"string\""
        },
        {
         "metadata": "{}",
         "name": "airconditioning",
         "type": "\"string\""
        },
        {
         "metadata": "{}",
         "name": "area",
         "type": "\"string\""
        },
        {
         "metadata": "{}",
         "name": "basement",
         "type": "\"string\""
        },
        {
         "metadata": "{}",
         "name": "bathrooms",
         "type": "\"string\""
        },
        {
         "metadata": "{}",
         "name": "bedrooms",
         "type": "\"string\""
        },
        {
         "metadata": "{}",
         "name": "furnishingstatus",
         "type": "\"string\""
        },
        {
         "metadata": "{}",
         "name": "guestroom",
         "type": "\"string\""
        },
        {
         "metadata": "{}",
         "name": "hotwaterheating",
         "type": "\"string\""
        },
        {
         "metadata": "{}",
         "name": "mainroad",
         "type": "\"string\""
        },
        {
         "metadata": "{}",
         "name": "parking",
         "type": "\"string\""
        },
        {
         "metadata": "{}",
         "name": "prefarea",
         "type": "\"string\""
        },
        {
         "metadata": "{}",
         "name": "price",
         "type": "\"string\""
        },
        {
         "metadata": "{}",
         "name": "stories",
         "type": "\"string\""
        },
        {
         "metadata": "{}",
         "name": "value_clean",
         "type": "\"string\""
        },
        {
         "metadata": "{}",
         "name": "json_map",
         "type": "{\"type\":\"map\",\"keyType\":\"string\",\"valueType\":\"string\",\"valueContainsNull\":true}"
        },
        {
         "metadata": "{}",
         "name": "ingestion_timestamp",
         "type": "\"timestamp\""
        },
        {
         "metadata": "{}",
         "name": "ingestion_date",
         "type": "\"date\""
        },
        {
         "metadata": "{}",
         "name": "source_file",
         "type": "\"string\""
        },
        {
         "metadata": "{}",
         "name": "record_source",
         "type": "\"string\""
        },
        {
         "metadata": "{}",
         "name": "is_json",
         "type": "\"boolean\""
        }
       ],
       "type": "table"
      }
     },
     "output_type": "display_data"
    }
   ],
   "source": [
    "# --------------------------------\n",
    "# Silver Layer - Medallion Architecture (Service Principal Auth)\n",
    "# --------------------------------\n",
    "\n",
    "# Fetch Service Principal credentials from Key Vault\n",
    "client_id = dbutils.secrets.get(scope=\"capstonescope\", key=\"sp-client-id\")\n",
    "client_secret = dbutils.secrets.get(scope=\"capstonescope\", key=\"sp-client-secret\")\n",
    "tenant_id = dbutils.secrets.get(scope=\"capstonescope\", key=\"sp-tenant-id\")\n",
    "\n",
    "storage_account = \"capstoneblobsa\"\n",
    "bronze_container = \"bronze\"\n",
    "silver_container = \"silver\"\n",
    "\n",
    "# Configure Spark to use Service Principal OAuth for storage account\n",
    "spark.conf.set(\"fs.azure.account.auth.type\", \"OAuth\")\n",
    "spark.conf.set(\"fs.azure.account.oauth.provider.type\", \"org.apache.hadoop.fs.azurebfs.oauth2.ClientCredsTokenProvider\")\n",
    "spark.conf.set(\"fs.azure.account.oauth2.client.id\", client_id)\n",
    "spark.conf.set(\"fs.azure.account.oauth2.client.secret\", client_secret)\n",
    "spark.conf.set(\"fs.azure.account.oauth2.client.endpoint\", f\"https://login.microsoftonline.com/{tenant_id}/oauth2/token\")\n",
    "\n",
    "# Base paths for Bronze and Silver containers\n",
    "bronze_base = f\"abfss://{bronze_container}@{storage_account}.dfs.core.windows.net/\"\n",
    "silver_base = f\"abfss://{silver_container}@{storage_account}.dfs.core.windows.net/\"\n",
    "\n",
    "# Paths to Bronze Delta tables\n",
    "bronze_house_path = f\"{bronze_base}house_price\"\n",
    "bronze_orders_path = f\"{bronze_base}sales_orders\"\n",
    "bronze_world_path = f\"{bronze_base}world_population\"\n",
    "\n",
    "# Paths to Silver Delta tables\n",
    "silver_house_path = f\"{silver_base}house_price\"\n",
    "silver_orders_path = f\"{silver_base}sales_orders\"\n",
    "silver_world_path = f\"{silver_base}world_population\"\n",
    "\n",
    "# --------------------------------\n",
    "# Read Bronze Delta tables\n",
    "# --------------------------------\n",
    "df_house_bronze = spark.read.format(\"delta\").load(bronze_house_path)\n",
    "df_orders_bronze = spark.read.format(\"delta\").load(bronze_orders_path)\n",
    "df_world_bronze = spark.read.format(\"delta\").load(bronze_world_path)\n",
    "\n",
    "# --------------------------------\n",
    "# Silver transformations (light cleaning, structuring, metadata)\n",
    "# --------------------------------\n",
    "from pyspark.sql import functions as F\n",
    "from pyspark.sql.types import MapType, StringType\n",
    "\n",
    "def add_metadata(df, source_name):\n",
    "    return (\n",
    "        df\n",
    "        .withColumn(\"ingestion_timestamp\", F.current_timestamp())\n",
    "        .withColumn(\"ingestion_date\", F.to_date(F.current_timestamp()))\n",
    "        .withColumn(\"source_file\", F.input_file_name())\n",
    "        .withColumn(\"record_source\", F.lit(source_name))\n",
    "    )\n",
    "\n",
    "# House Price transformation\n",
    "df_house_silver = (\n",
    "    df_house_bronze\n",
    "    .withColumn(\"value_clean\", F.trim(F.col(\"value\")))\n",
    "    .filter(F.col(\"value_clean\").isNotNull() & (F.length(F.col(\"value_clean\")) > 0))\n",
    "    .withColumn(\"json_map\", F.from_json(F.col(\"value_clean\"), MapType(StringType(), StringType())))\n",
    "    .dropDuplicates([\"value_clean\"])\n",
    ")\n",
    "df_house_silver = add_metadata(df_house_silver, \"bronze.house_price\")\n",
    "df_house_silver = df_house_silver.withColumn(\"is_json\", F.col(\"json_map\").isNotNull())\n",
    "\n",
    "# Sales Orders transformation\n",
    "df_orders_silver = (\n",
    "    df_orders_bronze\n",
    "    .withColumn(\"value_clean\", F.trim(F.col(\"value\")))\n",
    "    .filter(F.col(\"value_clean\").isNotNull() & (F.length(F.col(\"value_clean\")) > 0))\n",
    "    .dropDuplicates([\"value_clean\"])\n",
    ")\n",
    "df_orders_silver = add_metadata(df_orders_silver, \"bronze.sales_orders\")\n",
    "\n",
    "# World Population transformation\n",
    "df_world_silver = (\n",
    "    df_world_bronze\n",
    "    .withColumn(\"value_clean\", F.trim(F.col(\"value\")))\n",
    "    .filter(F.col(\"value_clean\").isNotNull() & (F.length(F.col(\"value_clean\")) > 0))\n",
    "    .dropDuplicates([\"value_clean\"])\n",
    ")\n",
    "df_world_silver = add_metadata(df_world_silver, \"bronze.world_population\")\n",
    "\n",
    "# --------------------------------\n",
    "# Write Silver Delta tables\n",
    "# --------------------------------\n",
    "(\n",
    "    df_house_silver.write.format(\"delta\")\n",
    "    .mode(\"overwrite\")\n",
    "    .option(\"mergeSchema\", \"true\")\n",
    "    .save(silver_house_path)\n",
    ")\n",
    "\n",
    "(\n",
    "    df_orders_silver.write.format(\"delta\")\n",
    "    .mode(\"overwrite\")\n",
    "    .option(\"mergeSchema\", \"true\")\n",
    "    .save(silver_orders_path)\n",
    ")\n",
    "\n",
    "(\n",
    "    df_world_silver.write.format(\"delta\")\n",
    "    .mode(\"overwrite\")\n",
    "    .option(\"mergeSchema\", \"true\")\n",
    "    .save(silver_world_path)\n",
    ")\n",
    "\n",
    "# --------------------------------\n",
    "# Delta Lake time travel examples (Silver)\n",
    "# --------------------------------\n",
    "df_house_silver_v0 = spark.read.format(\"delta\").option(\"versionAsOf\", 0).load(silver_house_path)\n",
    "df_orders_silver_v0 = spark.read.format(\"delta\").option(\"versionAsOf\", 0).load(silver_orders_path)\n",
    "df_world_silver_v0 = spark.read.format(\"delta\").option(\"versionAsOf\", 0).load(silver_world_path)\n",
    "\n",
    "print(\"Silver House Price (version 0):\")\n",
    "display(df_house_silver_v0.limit(5))\n",
    "\n",
    "print(\"Silver Sales Orders (version 0):\")\n",
    "display(df_orders_silver_v0.limit(5))\n",
    "\n",
    "print(\"Silver World Population (version 0):\")\n",
    "display(df_world_silver_v0.limit(5))\n",
    "\n",
    "from delta.tables import DeltaTable\n",
    "\n",
    "house_delta = DeltaTable.forPath(spark, silver_house_path)\n",
    "orders_delta = DeltaTable.forPath(spark, silver_orders_path)\n",
    "world_delta = DeltaTable.forPath(spark, silver_world_path)\n",
    "\n",
    "house_first_ts = house_delta.history().orderBy(F.col(\"timestamp\").asc()).first()[\"timestamp\"]\n",
    "orders_first_ts = orders_delta.history().orderBy(F.col(\"timestamp\").asc()).first()[\"timestamp\"]\n",
    "world_first_ts = world_delta.history().orderBy(F.col(\"timestamp\").asc()).first()[\"timestamp\"]\n",
    "\n",
    "df_house_silver_t0 = spark.read.format(\"delta\").option(\"timestampAsOf\", str(house_first_ts)).load(silver_house_path)\n",
    "df_orders_silver_t0 = spark.read.format(\"delta\").option(\"timestampAsOf\", str(orders_first_ts)).load(silver_orders_path)\n",
    "df_world_silver_t0 = spark.read.format(\"delta\").option(\"timestampAsOf\", str(world_first_ts)).load(silver_world_path)\n",
    "\n",
    "print(f\"Silver House Price (timestampAsOf={house_first_ts}):\")\n",
    "display(df_house_silver_t0.limit(5))\n",
    "\n",
    "print(f\"Silver Sales Orders (timestampAsOf={orders_first_ts}):\")\n",
    "display(df_orders_silver_t0.limit(5))\n",
    "\n",
    "print(f\"Silver World Population (timestampAsOf={world_first_ts}):\")\n",
    "display(df_world_silver_t0.limit(5))\n",
    "\n",
    "print(\"Silver House Price history:\")\n",
    "house_delta.history().show(truncate=False)\n",
    "\n",
    "print(\"Silver Sales Orders history:\")\n",
    "orders_delta.history().show(truncate=False)\n",
    "\n",
    "print(\"Silver World Population history:\")\n",
    "world_delta.history().show(truncate=False)\n",
    "\n",
    "# --------------------------------\n",
    "# Register Silver tables in SQL database\n",
    "# --------------------------------\n",
    "spark.sql(\"CREATE DATABASE IF NOT EXISTS silver_db\")\n",
    "spark.sql(f\"CREATE TABLE IF NOT EXISTS silver_db.house_price USING DELTA LOCATION '{silver_house_path}'\")\n",
    "spark.sql(f\"CREATE TABLE IF NOT EXISTS silver_db.sales_orders USING DELTA LOCATION '{silver_orders_path}'\")\n",
    "spark.sql(f\"CREATE TABLE IF NOT EXISTS silver_db.world_population USING DELTA LOCATION '{silver_world_path}'\")\n",
    "\n",
    "# Sample query\n",
    "display(spark.sql(\"SELECT * FROM silver_db.house_price LIMIT 5\"))\n"
   ]
  }
 ],
 "metadata": {
  "application/vnd.databricks.v1+notebook": {
   "computePreferences": null,
   "dashboards": [],
   "environmentMetadata": {
    "base_environment": "",
    "environment_version": "3"
   },
   "inputWidgetPreferences": null,
   "language": "python",
   "notebookMetadata": {
    "pythonIndentUnit": 4
   },
   "notebookName": "silver_layer",
   "widgets": {}
  },
  "language_info": {
   "name": "python"
  }
 },
 "nbformat": 4,
 "nbformat_minor": 0
}